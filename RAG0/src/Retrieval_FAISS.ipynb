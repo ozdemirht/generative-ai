{
 "cells": [
  {
   "metadata": {},
   "cell_type": "markdown",
   "source": [
    "# Vector Store Details\n",
    "\n",
    "Ingestion\n",
    "- Chunk text\n",
    "- Calculate embedding of each chunk\n",
    "- Store [chunk,embedding] to vector store, FAISS\n",
    "\n",
    "Retrieval\n",
    "- Calculate embedding of query\n",
    "- semantic search by using the embedding of query as a reference point (kNN)\n",
    "- Use k Chunks as the augments of the query\n",
    "\n",
    "Notebook project these embedding vectors to 2D/3D for visualization by using t-SNE, UMAP, and PCA.\n",
    "It demonstrates the query point, augments of the query, and the rest of the stored embeddings."
   ],
   "id": "7d2c17084bf2c51d"
  },
  {
   "metadata": {},
   "cell_type": "markdown",
   "source": [
    "## Setup\n",
    "\n",
    "matplotlib and plotly are for visualization. Plotly supports interactive visualization.\n"
   ],
   "id": "ae6e5d5ed58d0162"
  },
  {
   "metadata": {},
   "cell_type": "code",
   "source": [
    "%pip install langchain\n",
    "%pip install langchain_core\n",
    "%pip install langchain_community\n",
    "%pip -qq install langchainhub\n",
    "%pip -qq install huggingface-hub\n",
    "%pip -qq install faiss-cpu\n",
    "%pip -qq install sentence-transformers\n",
    "%pip install matplotlib\n",
    "%pip install plotly"
   ],
   "id": "bf25367e782388d2",
   "outputs": [],
   "execution_count": null
  },
  {
   "metadata": {},
   "cell_type": "code",
   "source": "%pip install --upgrade sentence-transformers",
   "id": "c4b5911d8833f383",
   "outputs": [],
   "execution_count": null
  },
  {
   "cell_type": "code",
   "id": "initial_id",
   "metadata": {
    "collapsed": true,
    "ExecuteTime": {
     "end_time": "2025-10-31T22:16:30.131229Z",
     "start_time": "2025-10-31T22:15:49.690831Z"
    }
   },
   "source": [
    "import os\n",
    "from io import StringIO\n",
    "from langchain_text_splitters import RecursiveCharacterTextSplitter\n",
    "from langchain_community.vectorstores import FAISS\n",
    "from langchain_core.prompts import PromptTemplate\n",
    "from langchain_community.embeddings import HuggingFaceHubEmbeddings\n"
   ],
   "outputs": [],
   "execution_count": 5
  },
  {
   "metadata": {
    "ExecuteTime": {
     "end_time": "2025-10-31T22:16:34.116526Z",
     "start_time": "2025-10-31T22:16:34.111567Z"
    }
   },
   "cell_type": "code",
   "source": [
    "def get_content(file_name=\"../data/ThePrince_Machiavelli.txt\") -> str:\n",
    "    data = \"\"\n",
    "    with open(file_name, \"r\",encoding=\"utf-8\") as file:\n",
    "         data = file.read()\n",
    "    return data"
   ],
   "id": "877390bd476e0457",
   "outputs": [],
   "execution_count": 6
  },
  {
   "metadata": {
    "ExecuteTime": {
     "end_time": "2025-10-31T22:16:36.323426Z",
     "start_time": "2025-10-31T22:16:36.285035Z"
    }
   },
   "cell_type": "code",
   "source": [
    "# test\n",
    "content = get_content()\n",
    "content[4000:4250]"
   ],
   "id": "10662b73e99c1817",
   "outputs": [
    {
     "data": {
      "text/plain": [
       "' the guidance of Lorenzo de’ Medici, Il Magnifico.\\nThe downfall of the Medici in Florence occurred in 1494, in which year\\nMachiavelli entered the public service. During his official career\\nFlorence was free under the government of a Republic, which l'"
      ]
     },
     "execution_count": 7,
     "metadata": {},
     "output_type": "execute_result"
    }
   ],
   "execution_count": 7
  },
  {
   "metadata": {
    "ExecuteTime": {
     "end_time": "2025-10-31T22:16:39.661980Z",
     "start_time": "2025-10-31T22:16:39.657521Z"
    }
   },
   "cell_type": "code",
   "source": [
    "def chunk_text(text, chunk_size=1000, chunk_overlap=150):\n",
    "    text_splitter = RecursiveCharacterTextSplitter(\n",
    "            separators=\"\\n\",\n",
    "            chunk_size=chunk_size,\n",
    "            chunk_overlap=chunk_overlap,  ## linking consecutive chunks\n",
    "            length_function=len\n",
    "    )\n",
    "    chunks = text_splitter.split_text(text)\n",
    "    return chunks"
   ],
   "id": "fcd4cb51233c2e1c",
   "outputs": [],
   "execution_count": 8
  },
  {
   "metadata": {
    "ExecuteTime": {
     "end_time": "2025-10-31T22:16:42.690635Z",
     "start_time": "2025-10-31T22:16:42.682383Z"
    }
   },
   "cell_type": "code",
   "source": [
    "# test\n",
    "chunks = chunk_text(content)"
   ],
   "id": "ae654b099e3e53e1",
   "outputs": [],
   "execution_count": 9
  },
  {
   "metadata": {
    "ExecuteTime": {
     "end_time": "2025-10-31T22:16:46.520724Z",
     "start_time": "2025-10-31T22:16:46.516198Z"
    }
   },
   "cell_type": "code",
   "source": [
    "print(f\"type(chunks)= {type(chunks)}\")\n",
    "print(f\"len(chunks) = {len(chunks)}\")\n",
    "start_idx = 40\n",
    "for i in range(start_idx,start_idx+4):\n",
    "    print(f\"len(chunks[{i}]) = {len(chunks[i])} => [{chunks[i][0:64]} ...]\")"
   ],
   "id": "ba29c28686159ed6",
   "outputs": [
    {
     "name": "stdout",
     "output_type": "stream",
     "text": [
      "type(chunks)= <class 'list'>\n",
      "len(chunks) = 363\n",
      "len(chunks[40]) = 980 => [Now I say that those dominions which, when acquired, are added t ...]\n",
      "len(chunks[41]) = 947 => [only to bear in mind two considerations: the one, that the famil ...]\n",
      "len(chunks[42]) = 934 => [spot, disorders are seen as they spring up, and one can quickly  ...]\n",
      "len(chunks[43]) = 960 => [prince does not spend much on colonies, for with little or no ex ...]\n"
     ]
    }
   ],
   "execution_count": 10
  },
  {
   "metadata": {},
   "cell_type": "markdown",
   "source": "Test embedding",
   "id": "e592d165f8cba4ab"
  },
  {
   "metadata": {
    "ExecuteTime": {
     "end_time": "2025-10-31T22:16:52.092736Z",
     "start_time": "2025-10-31T22:16:52.089501Z"
    }
   },
   "cell_type": "code",
   "source": [
    "from transformers.utils import logging\n",
    "logging.set_verbosity_error()"
   ],
   "id": "3ef5c5384be7d0b6",
   "outputs": [],
   "execution_count": 11
  },
  {
   "metadata": {
    "ExecuteTime": {
     "end_time": "2025-10-31T22:16:53.308797Z",
     "start_time": "2025-10-31T22:16:53.305137Z"
    }
   },
   "cell_type": "code",
   "source": [
    "from sentence_transformers import SentenceTransformer\n",
    "def embed_chunks(chunks):\n",
    "    model = SentenceTransformer(\"all-MiniLM-L6-v2\")\n",
    "    return model.encode(chunks)"
   ],
   "id": "7522b6bb4c4254bd",
   "outputs": [],
   "execution_count": 12
  },
  {
   "metadata": {
    "ExecuteTime": {
     "end_time": "2025-10-31T22:17:09.678962Z",
     "start_time": "2025-10-31T22:16:56.800705Z"
    }
   },
   "cell_type": "code",
   "source": [
    "#test\n",
    "embedded_chunks = embed_chunks(chunks)"
   ],
   "id": "4fa25679484fc349",
   "outputs": [],
   "execution_count": 13
  },
  {
   "metadata": {
    "ExecuteTime": {
     "end_time": "2025-10-31T22:17:12.022310Z",
     "start_time": "2025-10-31T22:17:12.018340Z"
    }
   },
   "cell_type": "code",
   "source": [
    "print(f\"type(embedded_chunks)= {type(embedded_chunks)}\")\n",
    "print(f\"len(embedded_chunks) = {len(embedded_chunks)}\")\n",
    "print(f\"embedded_chunks.shape = {embedded_chunks.shape}\")"
   ],
   "id": "7a7dec764b01aeea",
   "outputs": [
    {
     "name": "stdout",
     "output_type": "stream",
     "text": [
      "type(embedded_chunks)= <class 'numpy.ndarray'>\n",
      "len(embedded_chunks) = 363\n",
      "embedded_chunks.shape = (363, 384)\n"
     ]
    }
   ],
   "execution_count": 14
  },
  {
   "metadata": {
    "ExecuteTime": {
     "end_time": "2025-10-31T22:17:18.169584Z",
     "start_time": "2025-10-31T22:17:18.165209Z"
    }
   },
   "cell_type": "code",
   "source": [
    "start_idx = 40\n",
    "for i in range(start_idx,start_idx+4):\n",
    "    print(f\"chunks[{i}] = [{chunks[i][0:32]} ...] => {embedded_chunks[i][0:6]} ...\")"
   ],
   "id": "c07b646a94c646d5",
   "outputs": [
    {
     "name": "stdout",
     "output_type": "stream",
     "text": [
      "chunks[40] = [Now I say that those dominions w ...] => [-0.02507091  0.01606758  0.06972311 -0.11896194 -0.04349811 -0.0283208 ] ...\n",
      "chunks[41] = [only to bear in mind two conside ...] => [-0.012266    0.05484197  0.01756565 -0.09092116 -0.0095341  -0.02421725] ...\n",
      "chunks[42] = [spot, disorders are seen as they ...] => [ 0.079357    0.06106947  0.08273438  0.02950769 -0.04516806  0.07001141] ...\n",
      "chunks[43] = [prince does not spend much on co ...] => [ 0.05889072  0.04274347  0.09256141  0.04474926 -0.0202273   0.01886031] ...\n"
     ]
    }
   ],
   "execution_count": 15
  },
  {
   "metadata": {
    "ExecuteTime": {
     "end_time": "2025-10-31T22:17:25.313717Z",
     "start_time": "2025-10-31T22:17:24.305869Z"
    }
   },
   "cell_type": "code",
   "source": [
    "import matplotlib.pyplot as plt\n",
    "# Visualize the results\n",
    "def plot_embeddings_2d(X_embedded,y, title='2D t-SNE Projection of Chunk Embeddings'):\n",
    "    plt.figure(figsize=(8, 6))\n",
    "    scatter = plt.scatter(X_embedded[:, 0], X_embedded[:, 1], c=y, cmap='viridis', s=50)\n",
    "    plt.title(title)\n",
    "    plt.xlabel('t-SNE Component 1')\n",
    "    plt.ylabel('t-SNE Component 2')\n",
    "    plt.colorbar(scatter, ticks=[0, 1, 2], label='Class label')\n",
    "    plt.grid(True)\n",
    "    plt.show()"
   ],
   "id": "e279e0b34dc69d50",
   "outputs": [],
   "execution_count": 16
  },
  {
   "metadata": {
    "ExecuteTime": {
     "end_time": "2025-10-31T22:17:34.001680Z",
     "start_time": "2025-10-31T22:17:29.575815Z"
    }
   },
   "cell_type": "code",
   "source": [
    "from sklearn.manifold import TSNE\n",
    "tsne = TSNE(n_components=2, random_state=42,perplexity=30) # For 2D visualization\n",
    "reduced_embeddings2 = tsne.fit_transform(embedded_chunks)"
   ],
   "id": "5398420c60b068e4",
   "outputs": [],
   "execution_count": 17
  },
  {
   "metadata": {
    "ExecuteTime": {
     "end_time": "2025-10-31T22:17:37.155297Z",
     "start_time": "2025-10-31T22:17:36.909228Z"
    }
   },
   "cell_type": "code",
   "source": [
    "print(len(reduced_embeddings2))\n",
    "label=[ 1 for i in range(len(reduced_embeddings2))]\n",
    "plot_embeddings_2d(reduced_embeddings2, label)"
   ],
   "id": "f0c865c965d9c763",
   "outputs": [
    {
     "name": "stdout",
     "output_type": "stream",
     "text": [
      "363\n"
     ]
    },
    {
     "data": {
      "text/plain": [
       "<Figure size 800x600 with 2 Axes>"
      ],
      "image/png": "[encoded data removed]"
     },
     "metadata": {},
     "output_type": "display_data"
    }
   ],
   "execution_count": 18
  },
  {
   "metadata": {
    "ExecuteTime": {
     "end_time": "2025-10-31T22:17:46.609305Z",
     "start_time": "2025-10-31T22:17:44.928322Z"
    }
   },
   "cell_type": "code",
   "source": [
    "from sklearn.manifold import TSNE\n",
    "tsne = TSNE(n_components=3, random_state=42,perplexity=30) # For 2D visualization\n",
    "reduced_embeddings3 = tsne.fit_transform(embedded_chunks)"
   ],
   "id": "eabf8286b969e613",
   "outputs": [],
   "execution_count": 19
  },
  {
   "metadata": {
    "ExecuteTime": {
     "end_time": "2025-10-31T22:18:07.703531Z",
     "start_time": "2025-10-31T22:18:07.698942Z"
    }
   },
   "cell_type": "code",
   "source": [
    "import plotly.express as px\n",
    "import pandas as pd\n",
    "\n",
    "def plot_embeddings_3d(dframe, color_column=\"label\",title='3D t-SNE Projection of Chunk Embeddings'):\n",
    "    # Visualize the 3D t-SNE projection using Plotly Express\n",
    "    fig = px.scatter_3d(\n",
    "        df_tsne,\n",
    "        x=dframe.columns[0],\n",
    "        y=dframe.columns[1],\n",
    "        z=dframe.columns[2],\n",
    "        color=color_column,\n",
    "        labels={'color': color_column},\n",
    "        title=title\n",
    "    )\n",
    "\n",
    "    # Customize marker size for better visualization\n",
    "    fig.update_traces(marker_size=5)\n",
    "\n",
    "    # Show the plot\n",
    "    fig.show()"
   ],
   "id": "8b1e19d2751d3a79",
   "outputs": [],
   "execution_count": 22
  },
  {
   "metadata": {
    "ExecuteTime": {
     "end_time": "2025-10-31T22:34:04.543696Z",
     "start_time": "2025-10-31T22:34:04.487730Z"
    }
   },
   "cell_type": "code",
   "source": [
    "projections = reduced_embeddings3\n",
    "df_tsne = pd.DataFrame(projections, columns=['TSNE-1', 'TSNE-2', 'TSNE-3'])\n",
    "df_tsne['label'] = [ 1 for i in range(len(reduced_embeddings3))]\n",
    "plot_embeddings_3d(df_tsne)"
   ],
   "id": "8cee75d30a0914cc",
   "outputs": [
    {
     "data": {
      "application/vnd.plotly.v1+json": {
       "data": [
        {
         "hovertemplate": "TSNE-1=%{x}<br>TSNE-2=%{y}<br>TSNE-3=%{z}<br>label=%{marker.color}<extra></extra>",
         "legendgroup": "",
         "marker": {
          "color": {
           "dtype": "i1",
           "bdata": "AQEBAQEBAQEBAQEBAQEBAQEBAQEBAQEBAQEBAQEBAQEBAQEBAQEBAQEBAQEBAQEBAQEBAQEBAQEBAQEBAQEBAQEBAQEBAQEBAQEBAQEBAQEBAQEBAQEBAQEBAQEBAQEBAQEBAQEBAQEBAQEBAQEBAQEBAQEBAQEBAQEBAQEBAQEBAQEBAQEBAQEBAQEBAQEBAQEBAQEBAQEBAQEBAQEBAQEBAQEBAQEBAQEBAQEBAQEBAQEBAQEBAQEBAQEBAQEBAQEBAQEBAQEBAQEBAQEBAQEBAQEBAQEBAQEBAQEBAQEBAQEBAQEBAQEBAQEBAQEBAQEBAQEBAQEBAQEBAQEBAQEBAQEBAQEBAQEBAQEBAQEBAQEBAQEBAQEBAQEBAQEBAQEBAQEBAQEBAQEBAQEBAQEBAQEBAQEBAQEBAQEBAQEBAQEBAQEBAQEBAQEBAQEBAQEBAQEBAQEBAQEBAQEBAQEBAQEBAQEBAQEB"
          },
          "coloraxis": "coloraxis",
          "symbol": "circle",
          "size": 5
         },
         "mode": "markers",
         "name": "",
         "scene": "scene",
         "showlegend": false,
         "x": {
          "dtype": "f4",
          "bdata": "+SwJP3SiM78DY2DANrEGQK6L6UBYWoxAhff4P7OGo0B4UXpAHxkgwEkIHUACfgdBGlSXwIONBcGpQTxBxiIsQchzqL+jCco/vkY3QHcSQUBsCAZBleMZQa0xAcBGNUzAVmUEwLBYFsEC2ZbAULfBwKyV98DzsTZAUdfYQMyAsEAY5qdA85CPwW47IDx5gxPA+ReEQPU9aMFqppVBAiCEQQ0y0sBhHqfAa27QwViy4cEXU9HBs3HIvyZ8lz/SCAfBA6DQwIkjXsGcd/rAjbq1QLU4k0D8lfTA+v8HwXQ7UcHrnjvBGdoAQbh938AycUXBml9swfrXeMCBeBRBJ+9DQBy2YcEJRsDA+EC3wH3x1sEc8aTB6vAZwR5fqL8hoxbABUGrwV7H2cFoKvZA5dKbwDAwv8C6H11Bxq1NQWUbqECDq6hAjJiEQIEcG0F1C0pBgL2IQQE8hEE2L5lBYlyuQN6VRUACHgZBxj8wv4qZOECn5rzA+h6Cvst93j+ZI7RBhPzEQazqv8E8rgfBQ7g9wVzMIsHHq/1AXs/iwe5r/MGDAprBmtlVwYReU8EEpDnBz2OAwWzSMcHFdWDB6P/cQI7WvMDjPxfBUmmNwStPscENyJvBqqgOwd7pi8DgkwI+wy9Gv4vRdMCdcsu/E94twMPJh8Gq7LLBio10v2GeTMB37I3AYJt6v0ltDkBAxKJADV7hQHGigsATVuRAvOsrQffa3cD6wpNAIYTwwCTZoMCcuHu/qR5AQX9PckHJp/rA8RNKwHXqPMGJY9lAG1WOwdKW0sGaYa3BRTe3wfwnXcEu1JhBnrWJQSTZq8BuJbg+6l9KwaKwkMGtY4/BGjkYwUGQVsGP4obB6rwowT6nC8HPoRhAzdyZvyAOkMCBPLZASAo9QTq3DEHZ3TLBkEuJwcziRMF/KgbBvfaQwAPWVj9TWpJAK4iawOkwiMDbr+HAE3InwXgpWsHeiHzBr3/XwDHogz/ckvO/xnTzwDJMm0DSchxB+h5QQKnkRkHpBTRBch1AQRBijUHoqp9BvGo+QdOWPEFJxXFBoHSTQShopUCPQWLB9PauQCdFRcBg/vHAFO79wOHzp8EdWstAfLWHwQP6XMFAXbHAUADYwSpZ2cFOs9jBesoYQPCLbsCy9QXB+8cIwW9RCMABDaTABTyXP01yN0Cry3vBYDnIQY52wEGH++DAkZLQwJ+mD8HBT43AqAGSP2BI90CkWGtAgtcSQAOQNUBi3ElA76UCwdS+d8EP63PBSNQLPu5jI8ELzo/BOJZYwefdE8F0TGjBU7BCQQp5D0C988dAnaJbwT3nH8GWktDAXqpAwGw9zL/pgJ2/SXTFPwhNBUGFdtJAa+VvQYgGf0FO35VBIASpQV7raEERQEhBO+uMQR8KxUHaXNdBpXTwQfnY3EHlJOxBX/LcQU3rv0GKtJxBjrmIQQcVlkFxY7NB03ffQYxhs0GJDY5BE9+MQViJtEGBBpFBbrQ+QXGGK0GfmYBA9GV9vi9cO8Cd156/tZJbQAeAaEAR+bNA4mg6QWysgUBHXuJAaaQzQcFikEAbLLFAH0Q3Qb2kMUEnvF1BNrmEQZ8oDkEsy/HAa96dwKxku7/SErG/tOTav5vJEsBpvhbBM1wQwcnMPcDT4UrAf4YZwCNSHMCZWCU+zVlCQCb5W0Bb3Zk/WAbVQOmKAUH2jTNAGEWMQHcB9kDdhak/U+cZQKnDi0BMkyJB++PLQB+ULcGHJBBAZFMfQR8Bc0C0QT9ByP66wZ4QrkF3osdBSyrGQfgxpkGhxqBBO8XMQa/Cy0GGTftBE/2XQSZaZ0BkS4bAVUmzwL8Sa77LTy8/2YZ6P457hMDOHILAogskQG1spD/1yF/A3kLjwCNUP8CDUGvAjqxtwAfFXL+eUBRAe48IwZnFasHCslbB25I1wWGWHMFEDiTB"
         },
         "y": {
          "dtype": "f4",
          "bdata": "2SeDQPF1tkFsmqtBXko4wc5ajcHjknHBIRiOwNq96EDlzSLBifUTwWzaZ8DcJq3AMklowZJ6PsGEQmXBbK5Qwfr/XkG11U5B/nupv7U3D8H3kPjAdq1IwSm2RcGF+hTBubR9wHXwrsD0fjVAc4qMPx3Tp79698vAUQy4wGb0I0DZfEZB3LPiQcSZ5UE5BABCVZv1QWxwm0Ehb9DARqoVwd/A4UHMta5BYJbkQXzuzUGRWa5BYQY9QceVh0Fv/qFAM8szQE/fScGXpmfBspNGwcZUvMDHk5LB2eKEwYzmlMFFPYjBMvJpQP143UHOvLBBbsaYQfFaXEFSAc1AdEFFQZnO7EHQCHRBPtAQQg6zXEHKSctB8bKzQZJK2EAwxFFB1jGOQTDwxUDPR4hB+wyUQWVNTUFwBK5AJM28v3GCq8DavlW+AiL/wOJY98AaOwHB6uKPwIHl7D6X1aA+bpcEvqwzmsADQ4PAxaesPdBa8z/BByG/2dXuwGsmDEDmL8dAEjDHQPU5U8CEhuLBH3fXwdBm+8G/9UbA9qlvQBgKnUBmQb1Bcd3TQXe42UHB4dRB4aD8QX/gsEGEA5NBuECpQI4I60FvwAFCB6SRQY+RsUFE4sFBAiiFQZIu2kGlVANC5WstwT3M6cB9irvAGXBqv9tYRcFEW4NBhHNewWA8RsG5LyzBjrrRwJt7o8Fud63BtTekwWHDxsF2oKXB8rR1wXW7dcEMJWzBcLACwQVIAsB/0mA+MrDFv7lo4b+xbhHBZApdwQ+uJMGZT5ZBEZY/QblxRkE6SgdBYPjvQe6bIUFOQ6FB8g+tQUm6cUFD55BBC+5MQbxUyEBUFxtBNHgFQF7BNkDBBMFAxSuiQA5guj8hUXFB2l2cQY5qgEHjIipB2h9QQVtnfEGgoKRBQS6fQcVDsEGiCMBBCqCxQdityUHEbMtBqBugQX9xKkFCaIBBtVqOQRKva0E1vZFBWdDLwIc/r8EQaJHAwlQEQnhskkFiLYxB22yPQQnblkHrn4lBo3VGQZQ5jEFPAixBHZgNQbRoB0HZckpBeDoKQQ4FPkE0iVdB6TnRQdG+eUEi3J1BbHHawCh9dEHC9obB/HuhQUnCsUEZJbRBU8xpQRNVcUH5Ky5ByN5HwWYRlEBE1QVBYAO1Qe6g2ECi3cJAlZG8QCGEbcGIR/VBuPQLQV0HQEGl0AdC+TTyQZaJ5UFajdZBg331QejF8kHYUNlBKsnpQUT23EE3aY1BsSAPQTW6gkAhh+hALbt1wfCkFkEElmi/GGknwFi7McDtreC/DZ3wQSLLCEEkVrrBE8hwwa1jjMHNZ5vBsuKuwSAGk8EQVqjB3sqqwUSLZcGcpjjBjr2iwahwecGGbyPBi+73wPbWMcF9DVjB3kBnwZqzTsEacDvBGk2GwXP1Y8HpK3rBmBzwwPVuJMEC4jPBl+rOwfXSBMKjYurBIsLmweNqx8FKS+nBC/b0wVxB58F9sQnCZcf6wRPzEMI8cg7CZYQWwocgJsJvZTfC/Zo7wiVnJsJ3/DLC6dgmwlTzK8Kslh3CQoPvwa4R5MG+Ze/B1hLXwSvTA8ImUxHCo2QTwjUvFcKATgTCVB/rwYzBwcEBDdzBuGcEwj0FE8I4ASDC40Ipwu72IsI35CHCyzcYwmQaBMJOiwnCg/XtwTa+B8In4ujB+GgGwsQ+B8KoJgLC1NQYwjGFIcIqdynCB0wUwuY6H8KxezDCwRoKwkh5QkE3Ow/CGiDAwRL0GMJWGwbCYaPKwAv0R8I6iDjCMGsvwmfXJMJMNi7C/0giwk4bGMKdXx3CbbIdwj4s1kAyaGZC4whdQkq0MEL/sVhCZ7BUQjHvT0K4UUVClVdBQsEcOUIG5zNC+DszQnc7Q0IdnlhCNNFBQr5BN0IQHUlCSidOQuiGS0K0ajhCdicyQuO7RkJ2NF1C"
         },
         "z": {
          "dtype": "f4",
          "bdata": "IJCYQbF2YsGKAgnB8CwdQc3bqkFZFsFBNc7JQYLh6UEFTdJBd2KFQa2UgEE/UYBBm7ynQTnnq0HZnHZB8qvKQcqrwEE9U+hBP5mrQT+OpkHCWrlBBu6iQQs63kExrsFBKcajQcRZnkHOO7BBoLjYQS258UGH+AZCCgcLQuyUz0FV1bxBHHVWQcEbcMH9z4nBgpCKwaNfVsDCZIvBe4iYwaEYsMG1s9XBbzi8wMzkCsHhKRnBo9zXwfum1sE0s8zBOxOqwbG8bsC0n7U/IScgwf+sJ8HFWd7AqY8vwGBl2j48saZAQR2nwY6TasFxPd3BBN7hwZMwn78y57/BrR+4wS+TSME0bN7Bo96BwWnBskAbCZBAkexzwfB2XsGm2X7BxdCkQCNwpcDgMURBp0SXwTq5n8Gp44ZBE957QRqCP0EL5SnBpCKxwHCDH8CfmaU/xh19vqDzbkAiINtAGL+CwYz9dcFi42rBztSDwImRIMDsHoG/BRcoP+79+kB8MU2/remiwHA0rD+CZodBi/RqQec8S0Emxa5ATL2pQKB1+UBb1ZrAbM4QwRJsRMArF7Y/LnbCv+FJHD+K4ijBVvzTQEbNHsC+s+jA2nJ2wf8TlsFlu1LBLJ8lPo6O78A5Yf7AroqSwFlansBm7SvBdZkNwTSbYsG+8pHAMYi+wbfpHsENAN3BL/rqweFT5sCreYXAxhImwZYliMHYNoBBOsMZQQYF38G7zcfBPr6Jwc9Mi8HDL9jBrfqJwMOS68DtgBPChQcLwouiJj9/udrBbdLTPb7tRcBPqJu/4QE6QdnPA8DhfzxAGnfIQOsnlkHGjGZB86ZWQeZMQ0FNlRFB/44/QBBjzEBxirVAKo87QSrZY0FSkrhAP32uQFKmn0DS6PS+/WwgQAqACkCcEolBRmipQeDsrUFnVspBJTSRQW0pp0FLGbRBce5MQWo3PkF6kS5B0N0DQUoFs0At7zlBzpsPQci+lUGLoTJB4un/PszWA8ExcM3AuNKDwBKTNcG1zHHBmx4KwcbmI8HfV1rBxzZAwSc8kMCiupzAr3QbwVt7uMBng7/Bng8PwcetGsEd8+fAmtjkwcvnBcHDVWfBjPujP7Qs0EBhuNQ+aypswTI4m8HhpZ3BV+Z5Qa1xuUCZOHg/IlS8QLlY4cFiugLCB1oEwgI1xsDuwc5Ag4yAQVBGZUEatVBBHJuCQUvnFkEXlBZB2zQZQb/ELUFQ/vhAsHoIQOxg0r9rBZrBnHt1wexLh8GM2zXBvvGTwQ/eFMEYZ1rBONUtwcvNH8HNVbXADVYKP+4PcsH1qLDBkHeOwdRRo8EvZ77Bl1yowdBZBcIRlPDBPYO7wbmHrD95o4dAQgMLwBvpkj4WfLW/OE6ZwDjmGMEv9qLAAlDDwOVz3cB0jCHAOdXUQAvlb0AlSOq/W6oZQNiNYEAlxOxAq2uOQbjDlkHi6HpBBGRvQQLsRkE/hC1B4aDOQDvZ6UC4bS5B9CAwQYd1HUHbGNlARH8SQTOLNUAMRnw+py5CwTtwKMGe0qi/DoqyQFgs4EDRa0tARTsvwLQgD0GPHp5AeWRTQCIhNEDnuU5Aox2UvxH+l79esMK+wrB+vyq8j0Bodv1AZz9zQP8Nw78JYQjBkflywBfmtsAMSC3BqKqBwcynIcGVFJ3AxeTpv69fdj8ZTfvAUc4LwUgNT8ERFIbBBU6XwdqYZsHM/XfBqSRcwQ8Vf8C7p8vAdc2BQQXJ8UHb8bFBgTVCweUokEHT2XpBj5/aQKry1UBYSgZBz41nQPjLpkAUfxdBrPNAQWU4AUHbmhJBncR3QffFgEGOShBAK5tKwJa/10DLEX1ANdPxv2CcrD/KPXbAY58kQN8ZR8CdCWA/2oXKQKzdtkCdVgtBmRM6QZ2Mb0ErXRlBCgfkQDrKh0C3r5xAMRHAv9aJF759Mdw/"
         },
         "type": "scatter3d"
        }
       ],
       "layout": {
        "template": {
         "data": {
          "histogram2dcontour": [
           {
            "type": "histogram2dcontour",
            "colorbar": {
             "outlinewidth": 0,
             "ticks": ""
            },
            "colorscale": [
             [
              0.0,
              "#0d0887"
             ],
             [
              0.1111111111111111,
              "#46039f"
             ],
             [
              0.2222222222222222,
              "#7201a8"
             ],
             [
              0.3333333333333333,
              "#9c179e"
             ],
             [
              0.4444444444444444,
              "#bd3786"
             ],
             [
              0.5555555555555556,
              "#d8576b"
             ],
             [
              0.6666666666666666,
              "#ed7953"
             ],
             [
              0.7777777777777778,
              "#fb9f3a"
             ],
             [
              0.8888888888888888,
              "#fdca26"
             ],
             [
              1.0,
              "#f0f921"
             ]
            ]
           }
          ],
          "choropleth": [
           {
            "type": "choropleth",
            "colorbar": {
             "outlinewidth": 0,
             "ticks": ""
            }
           }
          ],
          "histogram2d": [
           {
            "type": "histogram2d",
            "colorbar": {
             "outlinewidth": 0,
             "ticks": ""
            },
            "colorscale": [
             [
              0.0,
              "#0d0887"
             ],
             [
              0.1111111111111111,
              "#46039f"
             ],
             [
              0.2222222222222222,
              "#7201a8"
             ],
             [
              0.3333333333333333,
              "#9c179e"
             ],
             [
              0.4444444444444444,
              "#bd3786"
             ],
             [
              0.5555555555555556,
              "#d8576b"
             ],
             [
              0.6666666666666666,
              "#ed7953"
             ],
             [
              0.7777777777777778,
              "#fb9f3a"
             ],
             [
              0.8888888888888888,
              "#fdca26"
             ],
             [
              1.0,
              "#f0f921"
             ]
            ]
           }
          ],
          "heatmap": [
           {
            "type": "heatmap",
            "colorbar": {
             "outlinewidth": 0,
             "ticks": ""
            },
            "colorscale": [
             [
              0.0,
              "#0d0887"
             ],
             [
              0.1111111111111111,
              "#46039f"
             ],
             [
              0.2222222222222222,
              "#7201a8"
             ],
             [
              0.3333333333333333,
              "#9c179e"
             ],
             [
              0.4444444444444444,
              "#bd3786"
             ],
             [
              0.5555555555555556,
              "#d8576b"
             ],
             [
              0.6666666666666666,
              "#ed7953"
             ],
             [
              0.7777777777777778,
              "#fb9f3a"
             ],
             [
              0.8888888888888888,
              "#fdca26"
             ],
             [
              1.0,
              "#f0f921"
             ]
            ]
           }
          ],
          "contourcarpet": [
           {
            "type": "contourcarpet",
            "colorbar": {
             "outlinewidth": 0,
             "ticks": ""
            }
           }
          ],
          "contour": [
           {
            "type": "contour",
            "colorbar": {
             "outlinewidth": 0,
             "ticks": ""
            },
            "colorscale": [
             [
              0.0,
              "#0d0887"
             ],
             [
              0.1111111111111111,
              "#46039f"
             ],
             [
              0.2222222222222222,
              "#7201a8"
             ],
             [
              0.3333333333333333,
              "#9c179e"
             ],
             [
              0.4444444444444444,
              "#bd3786"
             ],
             [
              0.5555555555555556,
              "#d8576b"
             ],
             [
              0.6666666666666666,
              "#ed7953"
             ],
             [
              0.7777777777777778,
              "#fb9f3a"
             ],
             [
              0.8888888888888888,
              "#fdca26"
             ],
             [
              1.0,
              "#f0f921"
             ]
            ]
           }
          ],
          "surface": [
           {
            "type": "surface",
            "colorbar": {
             "outlinewidth": 0,
             "ticks": ""
            },
            "colorscale": [
             [
              0.0,
              "#0d0887"
             ],
             [
              0.1111111111111111,
              "#46039f"
             ],
             [
              0.2222222222222222,
              "#7201a8"
             ],
             [
              0.3333333333333333,
              "#9c179e"
             ],
             [
              0.4444444444444444,
              "#bd3786"
             ],
             [
              0.5555555555555556,
              "#d8576b"
             ],
             [
              0.6666666666666666,
              "#ed7953"
             ],
             [
              0.7777777777777778,
              "#fb9f3a"
             ],
             [
              0.8888888888888888,
              "#fdca26"
             ],
             [
              1.0,
              "#f0f921"
             ]
            ]
           }
          ],
          "mesh3d": [
           {
            "type": "mesh3d",
            "colorbar": {
             "outlinewidth": 0,
             "ticks": ""
            }
           }
          ],
          "scatter": [
           {
            "marker": {
             "line": {
              "color": "#283442"
             }
            },
            "type": "scatter"
           }
          ],
          "parcoords": [
           {
            "type": "parcoords",
            "line": {
             "colorbar": {
              "outlinewidth": 0,
              "ticks": ""
             }
            }
           }
          ],
          "scatterpolargl": [
           {
            "type": "scatterpolargl",
            "marker": {
             "colorbar": {
              "outlinewidth": 0,
              "ticks": ""
             }
            }
           }
          ],
          "bar": [
           {
            "error_x": {
             "color": "#f2f5fa"
            },
            "error_y": {
             "color": "#f2f5fa"
            },
            "marker": {
             "line": {
              "color": "rgb(17,17,17)",
              "width": 0.5
             },
             "pattern": {
              "fillmode": "overlay",
              "size": 10,
              "solidity": 0.2
             }
            },
            "type": "bar"
           }
          ],
          "scattergeo": [
           {
            "type": "scattergeo",
            "marker": {
             "colorbar": {
              "outlinewidth": 0,
              "ticks": ""
             }
            }
           }
          ],
          "scatterpolar": [
           {
            "type": "scatterpolar",
            "marker": {
             "colorbar": {
              "outlinewidth": 0,
              "ticks": ""
             }
            }
           }
          ],
          "histogram": [
           {
            "marker": {
             "pattern": {
              "fillmode": "overlay",
              "size": 10,
              "solidity": 0.2
             }
            },
            "type": "histogram"
           }
          ],
          "scattergl": [
           {
            "marker": {
             "line": {
              "color": "#283442"
             }
            },
            "type": "scattergl"
           }
          ],
          "scatter3d": [
           {
            "type": "scatter3d",
            "line": {
             "colorbar": {
              "outlinewidth": 0,
              "ticks": ""
             }
            },
            "marker": {
             "colorbar": {
              "outlinewidth": 0,
              "ticks": ""
             }
            }
           }
          ],
          "scattermap": [
           {
            "type": "scattermap",
            "marker": {
             "colorbar": {
              "outlinewidth": 0,
              "ticks": ""
             }
            }
           }
          ],
          "scattermapbox": [
           {
            "type": "scattermapbox",
            "marker": {
             "colorbar": {
              "outlinewidth": 0,
              "ticks": ""
             }
            }
           }
          ],
          "scatterternary": [
           {
            "type": "scatterternary",
            "marker": {
             "colorbar": {
              "outlinewidth": 0,
              "ticks": ""
             }
            }
           }
          ],
          "scattercarpet": [
           {
            "type": "scattercarpet",
            "marker": {
             "colorbar": {
              "outlinewidth": 0,
              "ticks": ""
             }
            }
           }
          ],
          "carpet": [
           {
            "aaxis": {
             "endlinecolor": "#A2B1C6",
             "gridcolor": "#506784",
             "linecolor": "#506784",
             "minorgridcolor": "#506784",
             "startlinecolor": "#A2B1C6"
            },
            "baxis": {
             "endlinecolor": "#A2B1C6",
             "gridcolor": "#506784",
             "linecolor": "#506784",
             "minorgridcolor": "#506784",
             "startlinecolor": "#A2B1C6"
            },
            "type": "carpet"
           }
          ],
          "table": [
           {
            "cells": {
             "fill": {
              "color": "#506784"
             },
             "line": {
              "color": "rgb(17,17,17)"
             }
            },
            "header": {
             "fill": {
              "color": "#2a3f5f"
             },
             "line": {
              "color": "rgb(17,17,17)"
             }
            },
            "type": "table"
           }
          ],
          "barpolar": [
           {
            "marker": {
             "line": {
              "color": "rgb(17,17,17)",
              "width": 0.5
             },
             "pattern": {
              "fillmode": "overlay",
              "size": 10,
              "solidity": 0.2
             }
            },
            "type": "barpolar"
           }
          ],
          "pie": [
           {
            "automargin": true,
            "type": "pie"
           }
          ]
         },
         "layout": {
          "autotypenumbers": "strict",
          "colorway": [
           "#636efa",
           "#EF553B",
           "#00cc96",
           "#ab63fa",
           "#FFA15A",
           "#19d3f3",
           "#FF6692",
           "#B6E880",
           "#FF97FF",
           "#FECB52"
          ],
          "font": {
           "color": "#f2f5fa"
          },
          "hovermode": "closest",
          "hoverlabel": {
           "align": "left"
          },
          "paper_bgcolor": "rgb(17,17,17)",
          "plot_bgcolor": "rgb(17,17,17)",
          "polar": {
           "bgcolor": "rgb(17,17,17)",
           "angularaxis": {
            "gridcolor": "#506784",
            "linecolor": "#506784",
            "ticks": ""
           },
           "radialaxis": {
            "gridcolor": "#506784",
            "linecolor": "#506784",
            "ticks": ""
           }
          },
          "ternary": {
           "bgcolor": "rgb(17,17,17)",
           "aaxis": {
            "gridcolor": "#506784",
            "linecolor": "#506784",
            "ticks": ""
           },
           "baxis": {
            "gridcolor": "#506784",
            "linecolor": "#506784",
            "ticks": ""
           },
           "caxis": {
            "gridcolor": "#506784",
            "linecolor": "#506784",
            "ticks": ""
           }
          },
          "coloraxis": {
           "colorbar": {
            "outlinewidth": 0,
            "ticks": ""
           }
          },
          "colorscale": {
           "sequential": [
            [
             0.0,
             "#0d0887"
            ],
            [
             0.1111111111111111,
             "#46039f"
            ],
            [
             0.2222222222222222,
             "#7201a8"
            ],
            [
             0.3333333333333333,
             "#9c179e"
            ],
            [
             0.4444444444444444,
             "#bd3786"
            ],
            [
             0.5555555555555556,
             "#d8576b"
            ],
            [
             0.6666666666666666,
             "#ed7953"
            ],
            [
             0.7777777777777778,
             "#fb9f3a"
            ],
            [
             0.8888888888888888,
             "#fdca26"
            ],
            [
             1.0,
             "#f0f921"
            ]
           ],
           "sequentialminus": [
            [
             0.0,
             "#0d0887"
            ],
            [
             0.1111111111111111,
             "#46039f"
            ],
            [
             0.2222222222222222,
             "#7201a8"
            ],
            [
             0.3333333333333333,
             "#9c179e"
            ],
            [
             0.4444444444444444,
             "#bd3786"
            ],
            [
             0.5555555555555556,
             "#d8576b"
            ],
            [
             0.6666666666666666,
             "#ed7953"
            ],
            [
             0.7777777777777778,
             "#fb9f3a"
            ],
            [
             0.8888888888888888,
             "#fdca26"
            ],
            [
             1.0,
             "#f0f921"
            ]
           ],
           "diverging": [
            [
             0,
             "#8e0152"
            ],
            [
             0.1,
             "#c51b7d"
            ],
            [
             0.2,
             "#de77ae"
            ],
            [
             0.3,
             "#f1b6da"
            ],
            [
             0.4,
             "#fde0ef"
            ],
            [
             0.5,
             "#f7f7f7"
            ],
            [
             0.6,
             "#e6f5d0"
            ],
            [
             0.7,
             "#b8e186"
            ],
            [
             0.8,
             "#7fbc41"
            ],
            [
             0.9,
             "#4d9221"
            ],
            [
             1,
             "#276419"
            ]
           ]
          },
          "xaxis": {
           "gridcolor": "#283442",
           "linecolor": "#506784",
           "ticks": "",
           "title": {
            "standoff": 15
           },
           "zerolinecolor": "#283442",
           "automargin": true,
           "zerolinewidth": 2
          },
          "yaxis": {
           "gridcolor": "#283442",
           "linecolor": "#506784",
           "ticks": "",
           "title": {
            "standoff": 15
           },
           "zerolinecolor": "#283442",
           "automargin": true,
           "zerolinewidth": 2
          },
          "scene": {
           "xaxis": {
            "backgroundcolor": "rgb(17,17,17)",
            "gridcolor": "#506784",
            "linecolor": "#506784",
            "showbackground": true,
            "ticks": "",
            "zerolinecolor": "#C8D4E3",
            "gridwidth": 2
           },
           "yaxis": {
            "backgroundcolor": "rgb(17,17,17)",
            "gridcolor": "#506784",
            "linecolor": "#506784",
            "showbackground": true,
            "ticks": "",
            "zerolinecolor": "#C8D4E3",
            "gridwidth": 2
           },
           "zaxis": {
            "backgroundcolor": "rgb(17,17,17)",
            "gridcolor": "#506784",
            "linecolor": "#506784",
            "showbackground": true,
            "ticks": "",
            "zerolinecolor": "#C8D4E3",
            "gridwidth": 2
           }
          },
          "shapedefaults": {
           "line": {
            "color": "#f2f5fa"
           }
          },
          "annotationdefaults": {
           "arrowcolor": "#f2f5fa",
           "arrowhead": 0,
           "arrowwidth": 1
          },
          "geo": {
           "bgcolor": "rgb(17,17,17)",
           "landcolor": "rgb(17,17,17)",
           "subunitcolor": "#506784",
           "showland": true,
           "showlakes": true,
           "lakecolor": "rgb(17,17,17)"
          },
          "title": {
           "x": 0.05
          },
          "updatemenudefaults": {
           "bgcolor": "#506784",
           "borderwidth": 0
          },
          "sliderdefaults": {
           "bgcolor": "#C8D4E3",
           "borderwidth": 1,
           "bordercolor": "rgb(17,17,17)",
           "tickwidth": 0
          },
          "mapbox": {
           "style": "dark"
          }
         }
        },
        "scene": {
         "domain": {
          "x": [
           0.0,
           1.0
          ],
          "y": [
           0.0,
           1.0
          ]
         },
         "xaxis": {
          "title": {
           "text": "TSNE-1"
          }
         },
         "yaxis": {
          "title": {
           "text": "TSNE-2"
          }
         },
         "zaxis": {
          "title": {
           "text": "TSNE-3"
          }
         }
        },
        "coloraxis": {
         "colorbar": {
          "title": {
           "text": "label"
          }
         },
         "colorscale": [
          [
           0.0,
           "#0d0887"
          ],
          [
           0.1111111111111111,
           "#46039f"
          ],
          [
           0.2222222222222222,
           "#7201a8"
          ],
          [
           0.3333333333333333,
           "#9c179e"
          ],
          [
           0.4444444444444444,
           "#bd3786"
          ],
          [
           0.5555555555555556,
           "#d8576b"
          ],
          [
           0.6666666666666666,
           "#ed7953"
          ],
          [
           0.7777777777777778,
           "#fb9f3a"
          ],
          [
           0.8888888888888888,
           "#fdca26"
          ],
          [
           1.0,
           "#f0f921"
          ]
         ]
        },
        "legend": {
         "tracegroupgap": 0
        },
        "title": {
         "text": "3D t-SNE Projection of Chunk Embeddings"
        }
       },
       "config": {
        "plotlyServerURL": "https://plot.ly"
       }
      }
     },
     "metadata": {},
     "output_type": "display_data"
    }
   ],
   "execution_count": 32
  },
  {
   "metadata": {},
   "cell_type": "code",
   "source": "%pip install umap-learn",
   "id": "2c2a90efbb30fccb",
   "outputs": [],
   "execution_count": null
  },
  {
   "metadata": {
    "ExecuteTime": {
     "end_time": "2025-10-31T22:29:56.084719Z",
     "start_time": "2025-10-31T22:29:56.080481Z"
    }
   },
   "cell_type": "code",
   "source": [
    "from umap import UMAP\n",
    "\n",
    "def dim_reduction_umap(vectors, dimension=3):\n",
    "    umap_dr = UMAP(n_components=dimension, init='random', random_state=0)\n",
    "    return umap_dr.fit_transform(vectors)\n"
   ],
   "id": "a876895c5b033704",
   "outputs": [],
   "execution_count": 25
  },
  {
   "metadata": {
    "ExecuteTime": {
     "end_time": "2025-10-31T22:33:38.726762Z",
     "start_time": "2025-10-31T22:33:38.123645Z"
    }
   },
   "cell_type": "code",
   "source": [
    "projections = dim_reduction_umap(embedded_chunks,dimension=3)\n",
    "df_tsne = pd.DataFrame(projections, columns=['D-1', 'D-2', 'D-3'])\n",
    "df_tsne['label'] = [ 1 for i in range(len(projections))]\n",
    "plot_embeddings_3d(df_tsne,title='3D UMAP Projection of Chunk Embeddings')"
   ],
   "id": "ff09e60b95629477",
   "outputs": [
    {
     "name": "stderr",
     "output_type": "stream",
     "text": [
      "C:\\Users\\timuc\\AppData\\Roaming\\Python\\Python313\\site-packages\\umap\\umap_.py:1952: UserWarning:\n",
      "\n",
      "n_jobs value 1 overridden to 1 by setting random_state. Use no seed for parallelism.\n",
      "\n"
     ]
    },
    {
     "data": {
      "application/vnd.plotly.v1+json": {
       "data": [
        {
         "hovertemplate": "D-1=%{x}<br>D-2=%{y}<br>D-3=%{z}<br>label=%{marker.color}<extra></extra>",
         "legendgroup": "",
         "marker": {
          "color": {
           "dtype": "i1",
           "bdata": "AQEBAQEBAQEBAQEBAQEBAQEBAQEBAQEBAQEBAQEBAQEBAQEBAQEBAQEBAQEBAQEBAQEBAQEBAQEBAQEBAQEBAQEBAQEBAQEBAQEBAQEBAQEBAQEBAQEBAQEBAQEBAQEBAQEBAQEBAQEBAQEBAQEBAQEBAQEBAQEBAQEBAQEBAQEBAQEBAQEBAQEBAQEBAQEBAQEBAQEBAQEBAQEBAQEBAQEBAQEBAQEBAQEBAQEBAQEBAQEBAQEBAQEBAQEBAQEBAQEBAQEBAQEBAQEBAQEBAQEBAQEBAQEBAQEBAQEBAQEBAQEBAQEBAQEBAQEBAQEBAQEBAQEBAQEBAQEBAQEBAQEBAQEBAQEBAQEBAQEBAQEBAQEBAQEBAQEBAQEBAQEBAQEBAQEBAQEBAQEBAQEBAQEBAQEBAQEBAQEBAQEBAQEBAQEBAQEBAQEBAQEBAQEBAQEBAQEBAQEBAQEBAQEBAQEBAQEBAQEBAQEB"
          },
          "coloraxis": "coloraxis",
          "symbol": "circle",
          "size": 5
         },
         "mode": "markers",
         "name": "",
         "scene": "scene",
         "showlegend": false,
         "x": {
          "dtype": "f4",
          "bdata": "MLmhwA+a98DRJf3AC4WSwLfQjcDSa5PA0iOYwJW81cA/gpTA1tmYwPdCmMATI43AKxWQwOEqk8BtV4rA5viOwCMv9MCDEejAoiegwEkamcDRF5XAPgiOwIbPksBAoJXAGoedwJzcmMA8e6HAewmfwLtSmsCWTo3A7ACNwGNhxcC1H+rAeE75wGNP+8A/ZvjA5IPxwEvL/MAojHvAx2l8wBGe9cDGPebAPMgJwWxaCsGRrAbBfZHewAsn5sARlMvA8djDwMykdsDWSXnAVhiGwCSaj8B5Pn3AE8x6wPIJdsD8y3fAukXLwElN/cC5z+fAPQjiwMPOA8FqaM/At4XZwBesBMFZydzAT6r/wDK4/sBU5gPBZa/+wJrF0MC14tjA6U/+wOqq6sDLCAHBH17iwDlb1sCkK/LA6X+HwDxOjcBvsJbAfiuKwLlbfMC+03jABWFywKvpgMCO0IPAyaiawFb3lsDggZfAIxuawBvZnMCyY5zAM9uQwANGssBdvKXAD52iwMI02sDwHSvAZ5crwJHeKMB8kpTA0lHvwFX898DWJQXBhvMFwY5pBcEIVwfBJzYHwW/IBMH+sATBSuCxwBONB8HvcAXBmK8FwRK/BcEJTQjBsaIDwWdcAMHPz/LAgeuMwD1TksCrOJLA1FyWwKyAmsALr/bAbG+VwInsh8ASFKTAVd6qwCJPh8D1WGjAS0V/wN38gMCb1YfAJu2OwHzensBuhY/A8gigwD8kocBjqszAScmLwIXPk8BiL6TAH9KhwHJod8DYCejAyBn1wHJI8MCmffTAh/f5wLDy+sBYOM7AqYH0wJOEA8F4JwLBfrQCwQhH+sD3K/7Am4TSwLRW8cCi+fXAVkP0wDApncAsLwLBj80HwVbZBsGT2N/A1b/cwEHg5MDl2f/AeB8AwROJ/8DnvvvA4a0EwetyAsHTPgHBJycHwXLb/sAROAXBhJEGwdZDBsHLGQXBA0OUwJGljMAB0pXAu44EwRTp5sAiaODA8ZPrwK+g28Ay7trA4mnbwKCZ2cAs7dPAYm7WwJih28CM9NnAR+PTwFNc2sB+g93A1Sf2wHZi88DeoP/AQXrewN629cDlaoPAlKv/wIM9CcF7bwjBPxEAwXn+AMFyiv/AkzqWwAwTy8BpQd3A200IwR6x08Dt6uvAOBHlwGivi8CcyAPBjCXSwJPY2cCQ6g3BzhINwXREC8Ff4AvBq94NwfTODsGasAzBxqkMwdZd8sBL/d7AlTXWwG8p2sA7dNvAm0yPwMzx5MBANtvAA1SlwMiIn8AbqafAynLxwA2mz8DcRYzAtFafwJ+sk8ADZ5PAtlSPwFlSocAZPpfAYLOOwHiSgcBHn4XAtuxtwJKTcsBxp2fAROtdwAS1cMCY4m7AgK9pwGMvVcBQcknAM2NFwFEWRsAlpk3ApEBNwMMGSsD74lTAM7xRv7yfG7+IKRy/HXANv5kSMb9tID+/ZOBov3mmTb+5Ojy/g7Brvx/Rhb9Ck76/8K7Kv9RG8L8G6fq/JksiwGntJsDLv/O/tLajv1rOqb9SfLe/j1a7v3oHr78OkLy/STW2v6GErL8yCpy/2kuuvx4Fv79FsvS/ztHhvxsBw7+PGb2/u+PLv7Z2AcAJVxLAxCYHwJxqEcD2mifAS14kwAKMGsAhAg7A3A7+v0Q9278H3BPAV4AcwMKHKsDnPS/A/1QxwKPyLcAK3iXA4DwvwKpo2r/fe+K/xo+Lv4od+MB72ba/DHRjwJtumL9D02m/FdrYwNOF5b5jFIm+uUSZvpGnor7c1p++G02pvncdub6RV3m+BBwcv/E0qsBReWpBMDVrQYbIZ0HeSWpBsQ1oQSNhaUHCHGlB8eZlQYdnZUGuiWdBsAtpQUAMZ0GT0GdByqVmQXQbZkHfKWVB/iRnQfDDa0Hs/m1Bt5dsQfEHbUEX12xB"
         },
         "y": {
          "dtype": "f4",
          "bdata": "p0dAwM/o0L8QMvW/U3gXwHEiJMAVjC/AwhM1wJyTJ8DKtDDAZSItwFP4N8CG+TLA5dM+wAIDQcDwih7AG8ApwC7yJMDkoSTAl488wBeJLMBfjDDAmVonwMB4M8BM8j3AouYtwOJESMD+jELAKbNCwBXVQ8B7EkLA/kI+wKRwJMAPrSfAZJoCwMTowr/ONcK/hViuvxn+5r+Z8Jy/lvOdv0W7wb/+WcG/XprZv05syb9vJbS/8ea2v8Bdu7/WEZ+/cJagv3SDqb+3np6/9TNwv38zmr8Z7pG/1HOjvzWFpb+wcaa/boOxv2fH278LdNO/TeXqvy8IGcBLiKa/cSG6v5Tjzb/HVq+/JKLCv0ib8r8CTATAZOQHwLC27L/sGtW/Wyfjv7QTrL9WdxXAqsq7v02ezL/RNQLAdEcswJcxI8D2KqC/jP2ivylzsL8zgbG/k/C1v6SKyL/GptG/OmGiv4mVo79d3qK/3wjGvzGS1L/voNu/JMK0v3IAB8AG2tu/NTbmv0CqJ8A57IS+SpJTvssun77SDAbA9d8bwJKSHMB8V+m/FZfjv6JcAMBpswPAZ7UHwFh2CsA+Rr6/wLn5vyCeAcB+ivO/aMOtv9yNmL+jJLu/vKsVwMDH8b9Tw9C/En6Tv7agqr99iq+/mH63v61hw7/Csau/XO9ivpikmb/3T6W+ygfQvqpUHr9KNfm+1B/yvmj9h71R5RvAPjggv1wDd74T4Mi9HIOmv9lRnb9bgIq/6em1vypahb80ZCC/QwbFvn4/p7+fg9W/0QHsv5kuur9aB9O/QVz9vzFI5787WQDAaaUYwHxWKcD/BBrAUxMSwHHmCMCMQwnAowUJwF9QCMDg3QPA0UMQwBIkJMCPNyjAdZEcwOeBIcDQmTLA5uI4wEYrPMBFbDbAtm42wJC6P8D0tkjAzVMtwIYZNsAcgjjAtFMkwOtSH8AmeRjA3vMLwEWz578xZgzAPSEGwLcqD8C6TBXAsioFwLd8JsAVXznAR/EmwLHpMsBO0CjAjZJBwCwpQcC3O0TAQkBKwEoIO8AXVUTABOhDwHxSJsCROPy/Sh/tv6IlBcC/pdO/tpZ0vwMdnb+V2AS/zKv5v4m4+r/t1v+/0fyFv6AXeL/lL36/foQnwNkbCcBU4hrAiEbsv+k9j7+k+pi/vF6Sv+AOdL/gngrA3/O8v6kcvr+XGhLAoq0fwO5lD8A+TBTAsi8UwLQXE8DGNA7AD2sGwHFFuL9J3Ku/3VPpv869/79cKv+/zzR3vv5UA8CNoP6/Is7Sv73tyL9u4Ne/OboUwItk579jjCm8AEi1v7cEcL6c+vi9ersHvr2vl77/ZgC+fi23vR8Drb+ycb+/TGWDv+9nn7/hv66/hpKyvzUFlr86eJK/MKCcv+JLt7+2s7S/YueDv+9+nL/fl66/8iirv9zipr+Z27W/nriZPwxHmT/G96g/4fusPwZepT95WKc/ysGoP0aksz8FnLs/LcieP1R6ij8BOkg/OnxhPz17OT+8OHg/nx+hPw3AmD9lsoc/R1qAP2j7Vz9DmoI/gDdSP3G3Mj8/QCA/SNM1PwjrUj8INW8/69F5Pz4Vcj/l7C8/w/MyPzBYIT9k8R0/bdsNP8CmUD/3RXw/hDWIP/RoaD9Z4oc/FJKTP2pCLj/hSBY/fR32PnQPDT8xhx4/RsJwPyT8gT+16IQ/6ZGfP+Orpz+eH6Q/2UKBP+mKhD82PZc/hPRBPzTKMcBAfv8+7Akwvm1QOD+hGYY/3zM5wP653j9zONU/tAzQP7lsyz8sKtA/nwnNPyMhuT8Td8k/ciq/PxaSP8AE98/ASqTPwJTL08D+wMvAWJfNwCkNysAjjs3APGnPwMLvzcBKF9HA+2fVwH9K1MBlINXAnurYwCJC18B4xtXAcCHWwJgG0cAQnc7AcxfPwDDozsC7dc/A"
         },
         "z": {
          "dtype": "f4",
          "bdata": "dg7pQCjFj0BVKJVAdyLgQIwO8UAY1PFAF/LqQGJ5z0A/G/FAK6PkQDLn4UCcwt1A+kHoQDQ650AJtu5Ajr7xQHpkvkAL88NAWDPqQFWX60DtTvNAWGzxQC5m7UBnR+RAeUjmQABm4kAtkepATjHuQOn38ECLlO1A6UPuQDr500DGnsZA/26uQAncjUBVVItAdXWQQLq4pkCX1a5AXWWsQLTig0AcdX9A1vasQJPuqUBlcKtA+nWEQBToe0B8RpZAosyWQA2On0ASuKFAjP6sQDYHmUB6haZAqmmfQIg8n0BmSp5A7IqFQCsQiEBmdH5AhSWDQGE4rEDnJoRALxuHQNNYlUDnLoVAviWSQLu+oEBnA7JA5mCXQF9FjEDNR4pAdoStQPpOtUCXKqdAMNaLQH6kiUDi4qpAW97fQEHI3kAeyZJAldamQESDw0AubsZAIAvEQN64w0C+/sFAeJyPQEbbkEBj+pFAEIOaQDzBmkDtR6BAo+6oQLa2xUBl8rpAArq5QMzknEDNjM5ALfDNQGAd0EDeysZAow6iQFLAqUCSDK5A9p+YQL16oUDrGKdAwgegQLIMrUCGFqZAXMW+QO+hn0BjCJtA9COnQE2Ro0DcSqVA6TuuQCJvmUB5HJlAkdypQEM+qkCkXJxAypybQGHIpEDqIq1AlVC8QEbzpkDdfr5ALL65QNvutUA6ub1A+n24QOGgwkDG7OxAVx6+QDkAwUBFYL9A1jevQNuLqUANi55A9q3DQKrsw0BDKsNAcOnBQLRjn0Bs8XxA9Ba4QK6cs0A8XbhAY420QHriukARL49Ahc21QALGwUDNF8BAbUjAQPwgxUDyLcJAiWK6QInux0C14cZAcK3KQHvK10ADkq5AfJKvQI+lr0C45ZRA3OyWQKc2m0BRXblA5ICzQB/es0AMYbRAqhHAQO9sv0AZvsBAYli+QFrrxUDEor9A5dW6QK5btkAu77lAyo/PQKzB3kA/WtdAfu6ZQO7BjUC6AI1AU6GQQI2siUBDGohAeliQQK52ikDZCY9Ay6CVQGPljECrIYtAYcSQQDnukUAN3oNARXmIQFKDkUC1O6JAKzeyQC/GrUB0NbRAs/umQFCQukBg269AFsuiQP5to0AKn6RA7qTnQKdPvkDfra9AIEq4QPHgmEBsSKpAqf6jQJsbrEBU8LZAaaeyQHt0sEDOebtAIeS5QMbKtkDedrpAM6XAQKCbyUBmxsRAfT+7QC5rl0AI241Ah0WPQFV3nEAY3ZxAUZC3QLYTokBQ8p9A/xubQHy8mEBvOJhAKsalQN0zi0Cn/rhAF5SmQJUsuEDGhrtApcG+QEDmwUAtB7xA7yO9QAMrzkCxuslAZ+zKQC2CzEDeh8tAzeDMQGmixkCBnslAKODGQPhDzkD+V9JA3WrTQGUf1EDFBNBAL6rPQJ080kABC9BAyYvUQNbc0UBv09RAEmPWQGN31UB+HdhASvzcQM4/20C4jtxAYA3dQPyl2kC6oeBAvbreQMa64kCSj+FADfLYQARV10CIQNlA1PfeQDDo40A7o+FApPXkQMJH3EA/bOBA3B3lQHEl40Byyt9AEJ7aQEtg3UADu9tAhpHaQFRJ20C24NdAflrYQFpt3UCUat1AXbbeQCSN20BLC9lAMXHXQG1N1UAM+9ZAq9DbQKIo3UAiLNdAaWDTQCCd10Aqv9RAd5DXQE6k10A85dhAhUjSQLxn1EDtdddAnh7RQJB+tkBdnMhA1AfBQEN/0kAcINZAI5SfQAli5ECaWedAf0DmQH0d5kAdcOZAXy/mQNbS6EBXlOVAMeLfQMvR4kDXgE5AYF5UQKKrTUC5bU1AeedTQDuQVUBcD1NAD05XQOtzVECkZEhAzUpIQK+HTECahUxA+PBJQHluTkA7VExAMzBJQAptQUBczzpAKeFAQLzdQ0CMLVRA"
         },
         "type": "scatter3d"
        }
       ],
       "layout": {
        "template": {
         "data": {
          "histogram2dcontour": [
           {
            "type": "histogram2dcontour",
            "colorbar": {
             "outlinewidth": 0,
             "ticks": ""
            },
            "colorscale": [
             [
              0.0,
              "#0d0887"
             ],
             [
              0.1111111111111111,
              "#46039f"
             ],
             [
              0.2222222222222222,
              "#7201a8"
             ],
             [
              0.3333333333333333,
              "#9c179e"
             ],
             [
              0.4444444444444444,
              "#bd3786"
             ],
             [
              0.5555555555555556,
              "#d8576b"
             ],
             [
              0.6666666666666666,
              "#ed7953"
             ],
             [
              0.7777777777777778,
              "#fb9f3a"
             ],
             [
              0.8888888888888888,
              "#fdca26"
             ],
             [
              1.0,
              "#f0f921"
             ]
            ]
           }
          ],
          "choropleth": [
           {
            "type": "choropleth",
            "colorbar": {
             "outlinewidth": 0,
             "ticks": ""
            }
           }
          ],
          "histogram2d": [
           {
            "type": "histogram2d",
            "colorbar": {
             "outlinewidth": 0,
             "ticks": ""
            },
            "colorscale": [
             [
              0.0,
              "#0d0887"
             ],
             [
              0.1111111111111111,
              "#46039f"
             ],
             [
              0.2222222222222222,
              "#7201a8"
             ],
             [
              0.3333333333333333,
              "#9c179e"
             ],
             [
              0.4444444444444444,
              "#bd3786"
             ],
             [
              0.5555555555555556,
              "#d8576b"
             ],
             [
              0.6666666666666666,
              "#ed7953"
             ],
             [
              0.7777777777777778,
              "#fb9f3a"
             ],
             [
              0.8888888888888888,
              "#fdca26"
             ],
             [
              1.0,
              "#f0f921"
             ]
            ]
           }
          ],
          "heatmap": [
           {
            "type": "heatmap",
            "colorbar": {
             "outlinewidth": 0,
             "ticks": ""
            },
            "colorscale": [
             [
              0.0,
              "#0d0887"
             ],
             [
              0.1111111111111111,
              "#46039f"
             ],
             [
              0.2222222222222222,
              "#7201a8"
             ],
             [
              0.3333333333333333,
              "#9c179e"
             ],
             [
              0.4444444444444444,
              "#bd3786"
             ],
             [
              0.5555555555555556,
              "#d8576b"
             ],
             [
              0.6666666666666666,
              "#ed7953"
             ],
             [
              0.7777777777777778,
              "#fb9f3a"
             ],
             [
              0.8888888888888888,
              "#fdca26"
             ],
             [
              1.0,
              "#f0f921"
             ]
            ]
           }
          ],
          "contourcarpet": [
           {
            "type": "contourcarpet",
            "colorbar": {
             "outlinewidth": 0,
             "ticks": ""
            }
           }
          ],
          "contour": [
           {
            "type": "contour",
            "colorbar": {
             "outlinewidth": 0,
             "ticks": ""
            },
            "colorscale": [
             [
              0.0,
              "#0d0887"
             ],
             [
              0.1111111111111111,
              "#46039f"
             ],
             [
              0.2222222222222222,
              "#7201a8"
             ],
             [
              0.3333333333333333,
              "#9c179e"
             ],
             [
              0.4444444444444444,
              "#bd3786"
             ],
             [
              0.5555555555555556,
              "#d8576b"
             ],
             [
              0.6666666666666666,
              "#ed7953"
             ],
             [
              0.7777777777777778,
              "#fb9f3a"
             ],
             [
              0.8888888888888888,
              "#fdca26"
             ],
             [
              1.0,
              "#f0f921"
             ]
            ]
           }
          ],
          "surface": [
           {
            "type": "surface",
            "colorbar": {
             "outlinewidth": 0,
             "ticks": ""
            },
            "colorscale": [
             [
              0.0,
              "#0d0887"
             ],
             [
              0.1111111111111111,
              "#46039f"
             ],
             [
              0.2222222222222222,
              "#7201a8"
             ],
             [
              0.3333333333333333,
              "#9c179e"
             ],
             [
              0.4444444444444444,
              "#bd3786"
             ],
             [
              0.5555555555555556,
              "#d8576b"
             ],
             [
              0.6666666666666666,
              "#ed7953"
             ],
             [
              0.7777777777777778,
              "#fb9f3a"
             ],
             [
              0.8888888888888888,
              "#fdca26"
             ],
             [
              1.0,
              "#f0f921"
             ]
            ]
           }
          ],
          "mesh3d": [
           {
            "type": "mesh3d",
            "colorbar": {
             "outlinewidth": 0,
             "ticks": ""
            }
           }
          ],
          "scatter": [
           {
            "marker": {
             "line": {
              "color": "#283442"
             }
            },
            "type": "scatter"
           }
          ],
          "parcoords": [
           {
            "type": "parcoords",
            "line": {
             "colorbar": {
              "outlinewidth": 0,
              "ticks": ""
             }
            }
           }
          ],
          "scatterpolargl": [
           {
            "type": "scatterpolargl",
            "marker": {
             "colorbar": {
              "outlinewidth": 0,
              "ticks": ""
             }
            }
           }
          ],
          "bar": [
           {
            "error_x": {
             "color": "#f2f5fa"
            },
            "error_y": {
             "color": "#f2f5fa"
            },
            "marker": {
             "line": {
              "color": "rgb(17,17,17)",
              "width": 0.5
             },
             "pattern": {
              "fillmode": "overlay",
              "size": 10,
              "solidity": 0.2
             }
            },
            "type": "bar"
           }
          ],
          "scattergeo": [
           {
            "type": "scattergeo",
            "marker": {
             "colorbar": {
              "outlinewidth": 0,
              "ticks": ""
             }
            }
           }
          ],
          "scatterpolar": [
           {
            "type": "scatterpolar",
            "marker": {
             "colorbar": {
              "outlinewidth": 0,
              "ticks": ""
             }
            }
           }
          ],
          "histogram": [
           {
            "marker": {
             "pattern": {
              "fillmode": "overlay",
              "size": 10,
              "solidity": 0.2
             }
            },
            "type": "histogram"
           }
          ],
          "scattergl": [
           {
            "marker": {
             "line": {
              "color": "#283442"
             }
            },
            "type": "scattergl"
           }
          ],
          "scatter3d": [
           {
            "type": "scatter3d",
            "line": {
             "colorbar": {
              "outlinewidth": 0,
              "ticks": ""
             }
            },
            "marker": {
             "colorbar": {
              "outlinewidth": 0,
              "ticks": ""
             }
            }
           }
          ],
          "scattermap": [
           {
            "type": "scattermap",
            "marker": {
             "colorbar": {
              "outlinewidth": 0,
              "ticks": ""
             }
            }
           }
          ],
          "scattermapbox": [
           {
            "type": "scattermapbox",
            "marker": {
             "colorbar": {
              "outlinewidth": 0,
              "ticks": ""
             }
            }
           }
          ],
          "scatterternary": [
           {
            "type": "scatterternary",
            "marker": {
             "colorbar": {
              "outlinewidth": 0,
              "ticks": ""
             }
            }
           }
          ],
          "scattercarpet": [
           {
            "type": "scattercarpet",
            "marker": {
             "colorbar": {
              "outlinewidth": 0,
              "ticks": ""
             }
            }
           }
          ],
          "carpet": [
           {
            "aaxis": {
             "endlinecolor": "#A2B1C6",
             "gridcolor": "#506784",
             "linecolor": "#506784",
             "minorgridcolor": "#506784",
             "startlinecolor": "#A2B1C6"
            },
            "baxis": {
             "endlinecolor": "#A2B1C6",
             "gridcolor": "#506784",
             "linecolor": "#506784",
             "minorgridcolor": "#506784",
             "startlinecolor": "#A2B1C6"
            },
            "type": "carpet"
           }
          ],
          "table": [
           {
            "cells": {
             "fill": {
              "color": "#506784"
             },
             "line": {
              "color": "rgb(17,17,17)"
             }
            },
            "header": {
             "fill": {
              "color": "#2a3f5f"
             },
             "line": {
              "color": "rgb(17,17,17)"
             }
            },
            "type": "table"
           }
          ],
          "barpolar": [
           {
            "marker": {
             "line": {
              "color": "rgb(17,17,17)",
              "width": 0.5
             },
             "pattern": {
              "fillmode": "overlay",
              "size": 10,
              "solidity": 0.2
             }
            },
            "type": "barpolar"
           }
          ],
          "pie": [
           {
            "automargin": true,
            "type": "pie"
           }
          ]
         },
         "layout": {
          "autotypenumbers": "strict",
          "colorway": [
           "#636efa",
           "#EF553B",
           "#00cc96",
           "#ab63fa",
           "#FFA15A",
           "#19d3f3",
           "#FF6692",
           "#B6E880",
           "#FF97FF",
           "#FECB52"
          ],
          "font": {
           "color": "#f2f5fa"
          },
          "hovermode": "closest",
          "hoverlabel": {
           "align": "left"
          },
          "paper_bgcolor": "rgb(17,17,17)",
          "plot_bgcolor": "rgb(17,17,17)",
          "polar": {
           "bgcolor": "rgb(17,17,17)",
           "angularaxis": {
            "gridcolor": "#506784",
            "linecolor": "#506784",
            "ticks": ""
           },
           "radialaxis": {
            "gridcolor": "#506784",
            "linecolor": "#506784",
            "ticks": ""
           }
          },
          "ternary": {
           "bgcolor": "rgb(17,17,17)",
           "aaxis": {
            "gridcolor": "#506784",
            "linecolor": "#506784",
            "ticks": ""
           },
           "baxis": {
            "gridcolor": "#506784",
            "linecolor": "#506784",
            "ticks": ""
           },
           "caxis": {
            "gridcolor": "#506784",
            "linecolor": "#506784",
            "ticks": ""
           }
          },
          "coloraxis": {
           "colorbar": {
            "outlinewidth": 0,
            "ticks": ""
           }
          },
          "colorscale": {
           "sequential": [
            [
             0.0,
             "#0d0887"
            ],
            [
             0.1111111111111111,
             "#46039f"
            ],
            [
             0.2222222222222222,
             "#7201a8"
            ],
            [
             0.3333333333333333,
             "#9c179e"
            ],
            [
             0.4444444444444444,
             "#bd3786"
            ],
            [
             0.5555555555555556,
             "#d8576b"
            ],
            [
             0.6666666666666666,
             "#ed7953"
            ],
            [
             0.7777777777777778,
             "#fb9f3a"
            ],
            [
             0.8888888888888888,
             "#fdca26"
            ],
            [
             1.0,
             "#f0f921"
            ]
           ],
           "sequentialminus": [
            [
             0.0,
             "#0d0887"
            ],
            [
             0.1111111111111111,
             "#46039f"
            ],
            [
             0.2222222222222222,
             "#7201a8"
            ],
            [
             0.3333333333333333,
             "#9c179e"
            ],
            [
             0.4444444444444444,
             "#bd3786"
            ],
            [
             0.5555555555555556,
             "#d8576b"
            ],
            [
             0.6666666666666666,
             "#ed7953"
            ],
            [
             0.7777777777777778,
             "#fb9f3a"
            ],
            [
             0.8888888888888888,
             "#fdca26"
            ],
            [
             1.0,
             "#f0f921"
            ]
           ],
           "diverging": [
            [
             0,
             "#8e0152"
            ],
            [
             0.1,
             "#c51b7d"
            ],
            [
             0.2,
             "#de77ae"
            ],
            [
             0.3,
             "#f1b6da"
            ],
            [
             0.4,
             "#fde0ef"
            ],
            [
             0.5,
             "#f7f7f7"
            ],
            [
             0.6,
             "#e6f5d0"
            ],
            [
             0.7,
             "#b8e186"
            ],
            [
             0.8,
             "#7fbc41"
            ],
            [
             0.9,
             "#4d9221"
            ],
            [
             1,
             "#276419"
            ]
           ]
          },
          "xaxis": {
           "gridcolor": "#283442",
           "linecolor": "#506784",
           "ticks": "",
           "title": {
            "standoff": 15
           },
           "zerolinecolor": "#283442",
           "automargin": true,
           "zerolinewidth": 2
          },
          "yaxis": {
           "gridcolor": "#283442",
           "linecolor": "#506784",
           "ticks": "",
           "title": {
            "standoff": 15
           },
           "zerolinecolor": "#283442",
           "automargin": true,
           "zerolinewidth": 2
          },
          "scene": {
           "xaxis": {
            "backgroundcolor": "rgb(17,17,17)",
            "gridcolor": "#506784",
            "linecolor": "#506784",
            "showbackground": true,
            "ticks": "",
            "zerolinecolor": "#C8D4E3",
            "gridwidth": 2
           },
           "yaxis": {
            "backgroundcolor": "rgb(17,17,17)",
            "gridcolor": "#506784",
            "linecolor": "#506784",
            "showbackground": true,
            "ticks": "",
            "zerolinecolor": "#C8D4E3",
            "gridwidth": 2
           },
           "zaxis": {
            "backgroundcolor": "rgb(17,17,17)",
            "gridcolor": "#506784",
            "linecolor": "#506784",
            "showbackground": true,
            "ticks": "",
            "zerolinecolor": "#C8D4E3",
            "gridwidth": 2
           }
          },
          "shapedefaults": {
           "line": {
            "color": "#f2f5fa"
           }
          },
          "annotationdefaults": {
           "arrowcolor": "#f2f5fa",
           "arrowhead": 0,
           "arrowwidth": 1
          },
          "geo": {
           "bgcolor": "rgb(17,17,17)",
           "landcolor": "rgb(17,17,17)",
           "subunitcolor": "#506784",
           "showland": true,
           "showlakes": true,
           "lakecolor": "rgb(17,17,17)"
          },
          "title": {
           "x": 0.05
          },
          "updatemenudefaults": {
           "bgcolor": "#506784",
           "borderwidth": 0
          },
          "sliderdefaults": {
           "bgcolor": "#C8D4E3",
           "borderwidth": 1,
           "bordercolor": "rgb(17,17,17)",
           "tickwidth": 0
          },
          "mapbox": {
           "style": "dark"
          }
         }
        },
        "scene": {
         "domain": {
          "x": [
           0.0,
           1.0
          ],
          "y": [
           0.0,
           1.0
          ]
         },
         "xaxis": {
          "title": {
           "text": "D-1"
          }
         },
         "yaxis": {
          "title": {
           "text": "D-2"
          }
         },
         "zaxis": {
          "title": {
           "text": "D-3"
          }
         }
        },
        "coloraxis": {
         "colorbar": {
          "title": {
           "text": "label"
          }
         },
         "colorscale": [
          [
           0.0,
           "#0d0887"
          ],
          [
           0.1111111111111111,
           "#46039f"
          ],
          [
           0.2222222222222222,
           "#7201a8"
          ],
          [
           0.3333333333333333,
           "#9c179e"
          ],
          [
           0.4444444444444444,
           "#bd3786"
          ],
          [
           0.5555555555555556,
           "#d8576b"
          ],
          [
           0.6666666666666666,
           "#ed7953"
          ],
          [
           0.7777777777777778,
           "#fb9f3a"
          ],
          [
           0.8888888888888888,
           "#fdca26"
          ],
          [
           1.0,
           "#f0f921"
          ]
         ]
        },
        "legend": {
         "tracegroupgap": 0
        },
        "title": {
         "text": "3D UMAP Projection of Chunk Embeddings"
        }
       },
       "config": {
        "plotlyServerURL": "https://plot.ly"
       }
      }
     },
     "metadata": {},
     "output_type": "display_data"
    }
   ],
   "execution_count": 31
  },
  {
   "metadata": {
    "ExecuteTime": {
     "end_time": "2025-10-31T22:32:14.299576Z",
     "start_time": "2025-10-31T22:32:14.295306Z"
    }
   },
   "cell_type": "code",
   "source": [
    "from sklearn.decomposition import PCA\n",
    "\n",
    "def dim_reduction_pca(vectors, dimension=3):\n",
    "    pca = PCA(n_components=dimension)\n",
    "    return pca.fit_transform(vectors)"
   ],
   "id": "3549a58e0402500f",
   "outputs": [],
   "execution_count": 28
  },
  {
   "metadata": {
    "ExecuteTime": {
     "end_time": "2025-10-31T22:33:28.208358Z",
     "start_time": "2025-10-31T22:33:28.123994Z"
    }
   },
   "cell_type": "code",
   "source": [
    "projections = dim_reduction_pca(embedded_chunks,dimension=3)\n",
    "df_tsne = pd.DataFrame(projections, columns=['PCA-1', 'PCA-2', 'PCA-3'])\n",
    "df_tsne['label'] = [ 1 for i in range(len(projections))]\n",
    "plot_embeddings_3d(df_tsne,title='3D PCA Projection of Chunk Embeddings')"
   ],
   "id": "9421671fac0b2fe2",
   "outputs": [
    {
     "data": {
      "application/vnd.plotly.v1+json": {
       "data": [
        {
         "hovertemplate": "PCA-1=%{x}<br>PCA-2=%{y}<br>PCA-3=%{z}<br>label=%{marker.color}<extra></extra>",
         "legendgroup": "",
         "marker": {
          "color": {
           "dtype": "i1",
           "bdata": "AQEBAQEBAQEBAQEBAQEBAQEBAQEBAQEBAQEBAQEBAQEBAQEBAQEBAQEBAQEBAQEBAQEBAQEBAQEBAQEBAQEBAQEBAQEBAQEBAQEBAQEBAQEBAQEBAQEBAQEBAQEBAQEBAQEBAQEBAQEBAQEBAQEBAQEBAQEBAQEBAQEBAQEBAQEBAQEBAQEBAQEBAQEBAQEBAQEBAQEBAQEBAQEBAQEBAQEBAQEBAQEBAQEBAQEBAQEBAQEBAQEBAQEBAQEBAQEBAQEBAQEBAQEBAQEBAQEBAQEBAQEBAQEBAQEBAQEBAQEBAQEBAQEBAQEBAQEBAQEBAQEBAQEBAQEBAQEBAQEBAQEBAQEBAQEBAQEBAQEBAQEBAQEBAQEBAQEBAQEBAQEBAQEBAQEBAQEBAQEBAQEBAQEBAQEBAQEBAQEBAQEBAQEBAQEBAQEBAQEBAQEBAQEBAQEBAQEBAQEBAQEBAQEBAQEBAQEBAQEBAQEB"
          },
          "coloraxis": "coloraxis",
          "symbol": "circle",
          "size": 5
         },
         "mode": "markers",
         "name": "",
         "scene": "scene",
         "showlegend": false,
         "x": {
          "dtype": "f4",
          "bdata": "KIGKvjjGkr4zz7C+GQoNPj+HuD5c/4k+77W+PeG1ib1IIQQ+X5cDPblPz70QKFE+ri9mPpIV2j1NXNo+pl1/Pr5bmL4JtW++wA3/OxmWEj1XYYw+46SrPhjJNz6gMSo+cWIxPL4fHL73iqC+oDbCvQuaWj3KMHQ+bAmvPizW+jzNgJi+4CzIvu0BlL6/DoW+ft4bvlfR6L6HN6u8Q1xlPsYfg76GnzS+2cnHvk8Inb6SXa++109Qvh0Whr6vbrC9GM3bPbppkLpKY2s+ZGCAPnifLz6QG24+VYgFPoHuq7x6kUM+w0iavWjgyb75OJa+L+59vgZanr70aL+9Ry7Lvb2sx7771729F8WNvoW8zL5db8q+XNzWvohVcTxe+ya+/ATUvo1wq70m44i+5Ql7vopWjr6egem9u7E6Ppd0FT6cnM68ipFIPq9sED4mNRw+gxKoPBvoqL01KVw9uQUlPSBnzD0/QQE+3u7pPCuhDjq9Y0q9w28yPpSowrz51MK8Sho6Pko90L1qYn8+mxmHPhJmwT6vc449/n54vkuWDb4atOq+2VHvvqq+2b7CJPG+9qOzvnoD9b6yL7y+gOKcvee73r4t+Oq+DC6LvtGvnb1Jdry+JJLuvqnc1L5+aDi+pX/7Pa9YGj4Alv89QEGMPSEEKb5dYOi+I+8CPr9lFj7/SSk7GcuRvQXESD484Lk+JlyWPrFMgD69B/I+oyh8PuLoRT6nH5s+S2OWPbO0Az5u+O29MU9qPMdNXD2cdKy9H0LDPIJYgLz0+YG+dYbbvtjSaL7Rw7i+cOQ6vsM5m77bb9m9uSfFvjW4zL6HVZ6+CK7UvnTv4r4YIAm/FbNNvgVToL6ViuC+7pamvjftlr23I6e+yXXcvgaq+L6Iyza+UlkhvGigXb5GS7K+a/qhvougnL4Wfrq9H+2jviGReL4yPe692KUDv4/Oir7EOAe/GRT/vmG5xr6XnKu+UTodu7hAtD7C1oa90HfFvgcSor4FkCq+fFe4vgmB+b2eQIa+pzMJvrbNoz0jOxG9k+4fvVCW872Tkx48C3lPPdfj2r3R/yK+GOzDvm0Lkr7W19O+BNY9vrxdnr4K5Zs+VvPsvnw9xL79At2+do1fvrBshL1oyZ+9rqKoPbAiVb7mRl2+ZZvLvunf471coZC+K/Ynvh0Ni7yNygK/ZnzdPL0VlL3jMzi+PpiAvsPJ7b6F3Na+20ymvlA82byWnJy+rht7vsReiL4kKDa+u8QhvmUORb6Ehzi+3k9JPgBKoL6r3YG+PkDlPKhlXT4hwmc8lKtXviqGk73FP7Y9ciWTvZ5/sz2KSCQ+CcaDPmb1VT69MAE+oCoqPpCLtT4ozIQ+iXFTPuhDZz5fals+OCrKPZh9Pj7Ha5Y+GUl8Ps2t5D2ofXo++puPPrJYiD5CCl0+ZWs8PjoWUT6w/JY+UJ6yPqq+Gz6pZEE+2e/SPdApsD4dk7s+ETEEP+zxyD4znKM+AyL8Ps180j5MQAE/600EPzP36z79hMk+6bTNPuROBT/dZ/Q+YObePq92xD7l9t0+otUHP40V5T5SO+o+tarzPoNnAz88Avg+Y4MBPynwwz6Xz/o+soEOP75Huj4qt/4+f9QFPwJCEz/94bk+nhvKPh3A/z4XhgY/7M7pPom/AD/PXw0/tzr7Pv4o/j4XfwM/XdIPPxMPCD/BvPw+CublPlo6AD8u4eQ+lC34PvMOBD87qv4+E8qfPhX/Ob42pD09h7tCPgIBTT7Ff80+th+FvddTED5PRRA+VMlDPi1KzT4bCpI+LDcrPljTgz7C8Ro+WD7LPa0siL5Ndke+g7AzvvX3ub2iaSK+W23ovevKRL64F9O9nhaUvaP7hb02uYa96ZofvqOa0L3jfv69f3WfvY0Vur3BzR2+6F18vSG7wb3VN069EV0TvtuhN75P4Fy+"
         },
         "y": {
          "dtype": "f4",
          "bdata": "fcu6Pv1pSLzFD9y9kKN+ve3DNT3adEM9p3tzvaukAT7Ttq49c3GqvRA/yr1EnGG9omwovTQ9artKeoK7O7iqPXoL+7zDP7w9GPs6PeLH4Lx1uM495CeiPEVtFLwq4aa83jAAvbBntr13FFw86g+7PMJgvj32njY+61FyPrL5tD2mG54+12wyPIs/97yMCxu+54H8vUbfGL6bZBO+UEeEvdjmqTxH1cK83JXxvWistb2EBBe+FVelvfITjL2+80u9Ksz5vSOclDx/qb29RHBJvv9iHL4koQK9B2pUvatqHL2YlhK7qRuQvYjEJr5oVzS9O3SdvU5iPL7FegS9GFiSvb0Cf716FYe9dv8Cvpj+7r0moPy9j0zKvabw2LwO3uK9JVEnvrgdLztSubC9mtvuvfRoCr5Tcwq9vqn6vN4TUjxX/u29vyYxvivo571p2Rq+xwD6vfkOKr4bqdW9oP7DvXmZA772WOe9CtUtvj3E0L2++Rm+CiT9vV28p728c+G9XfeQvH/BZ702IJg65JftPaLxNDzA+gG++hbBvftJLr1Jjri9cJPdvbhSyL0zOCG+jKY1vWGnUr48ZDO+zF+BvR/yHL681bK9bLANvvdMiT1mkAe+jnkPvkVAGL6BbEK9181GvhOOHr4xSu+9t27wvY2ImL3vSJe9r18WvZPbf72eC6S9T+gpvI1bQb6U/fe9jgUsvvu8Br4THYA9K1DavQbQrL1C7088iaa3va5UHr6U1ze9ido3vgxM/b0txt68soHJPWw8X73LG1U9jl3YvUoPKL7whQG+Wra8vN5WJ75E/h+9uiEHPT0Nnjs0xjO98HcIviPEKb1RwKe9JEEkvnLDFL54JMO9ohDhvVwEuL0g0gu+dSwLvlGksL3pdB6+CdbpvSwZPr7yXpO9Jp8qva611b2yadc811XzvQupNb0JBGI8t7Abvm2Cbb3KfQq+38tBvoWeOr5YXta9ycuYvQeNaT3NUQe+/b/uvU4+Dr4qduy91TxjvuEwG74Af8W9mtAmvt8x8L2z8mI8Q/YEvhplS75kKwa+3yykvd4Uc76WrLy9HEhavXHv0r2oHMW9rH8qvLBtBL6z1Oi9P1AbvvbqV77fzku+KV0gvuJK8b0pmjO+2l/AvVBy5r0pTUq+wylAvqUlYb1PjR6+SS+1va/Zbb7dQhG9DzMgPm33Kj6B6Z29R9m1vcwqpL1wQ6S9icQYvln97zxWHiK+1OUgvkliSb6s7Fe+xps/vqqEkT1QGMI9u0W3u2yo6b0lGAM9Y1s4vacppL3QEA69RcfbvWvZlr3/tF69OL+3vZTBTr3jgf69IbSpvVvjxTz4Cc+9UgNlve9Ixr2yO/S9KmwBvnOEFb4TIPu97ETKvf0Bcr169ca9a00KvowFb71lsPi9Lr9rPZylzzw0MUy9f9mYvKuZ5rxT5YK8KoDiPb7uuzo69Ae8tB/pPZDygj0Q1XS9iSucOwJa3zyhbI+7uhooPfQ5rrwI1Ww84myhOhxXBb28odm9Y2abvVmhe725nrG9aYK/u20dpryyFF69xQZxvOr3m72FNDe9R8urvRWKKr18Mmq9Z16OPfwHK71A+wu9SkIevZb5Ab4tnUO7BrRKvPlENL0kNd08BabmvJR/BbwGViC5XbdgvXdYyb1lara88I1cvcMeKzmUtoq9+joTvVNqG7pUd8k8Dx7OvB7FODxLda+9+LOBvSZCqju8ebc6qO/HvA3/6j37Sy+904uXvcx1Yr3bYJ29LAznvHs3A72jJhU9TGiePbFdNz0aaVE8uHXoPHf3xjt9UXQ9uZmTvQsOPj7LmII/eYmEP6FIgz9oKIU/Qep/Pxiyhj+eFYE/MYl5P1zfcT/lqXk/OFN2P9Gsfz+f6oM/0iZnPybOIT8rJVM/l5h9P8j+az8L7W0/hzxOP1VMez9gEno/"
         },
         "z": {
          "dtype": "f4",
          "bdata": "HNHrPmYdx70HLTs8ryurPmIV+D6SDPk+ALzqPodeAT5pBPE+qVyfPkq89D4ONrk+ygnMPu9xuj64umc+JeXkPhk18T1AzGQ+zTsFP6WJ6D4JHQw//tjnPiiD0z6Lv6Q+1a7jPr8AGz6JVJE+BMGFPhkR3z2TTJ0+e9RtPh/Smz6/bsA9WBMsPpuI1j3qt6s9GtjyPbgkbL39Txu9dpXPOje5IL7wrTy+4rqkPdG++zzH0Wa+7jewvu1Agr7BK1e+VCePvicc6Dxgni8+RFmWPegWmz3fGYG9s+9guFFD+jzFEWQ9t9Q2voCNUL0QZZe+HAx5vjL1sL3V96y+F+ZzvoS3Fz1+N2e+G/INPh9/GL4lxbs967aNu7NbTb6KTym+yPnkvXKup75jbzy9SWMYvFZIbL62/Dw+P+aTPj760z7Y13M9PXtOPdr/ijxzFle9maCCvONVtzw8itQ7SUUavtcf/zyu8iU9lo1DvOvKnz22saK9O7q0PelEWz7oLRW+P8C7vR7aJb4ySzc98sKWPA2L6ztvcEM9RH+Fvrz3Db7kzek9j+3FPbpIELxNIfA8Mq0yvQRErjyd1KK9Ney1PXL5xj3iGS49PnhuvlQxor45drK8G5WJPDmFEr2HqQY+hdrWPT6pEj3rg6Q95pfBvCtq7bx0WpS9liE4vitdiz3vfVe+eE3QvtFfSr0tQlE9qBIpvYpTP77JBEM+Po7zPPpHhr6kBWe+NhNjvT3OJr7sdqe+VwBxu8P1Pr6xXJW+yha8vrT1O70qiVa+aUqnPMD5eT08KwC+1GPFPDu+Cr7CWey88EcjPYKVCj7Ygps9r38uPdjHsz1Snq096a2NPTo4kT38BYC9EXcRPkCnbD6PvJS8mZKPPFsYkD1FkCC+o7I2vvQpA77o01E+QTSzvf3Kxb0bkcy9xqJEPnyKJz7k9xM++l4kPjnMUj5J918+msHjPVA6/rsARWw8gVJlPb6uVj5JDaM+Ty8LvaTVhz2eOXC73qtivYC+9L0g3eq9h6kSvktC371VJIu+0epZvikASb1ymQm+kGxUvnjYcbyJ4qi+wycaPUbg1TsBy3e9gbDnvrvQK75RTmG94+7+u9SoFj7IdWM9GDTHPKwPnj2AAIg80Pe1PqPKVj7VEa88AdHBPeWG5L7onYG+Hf2svtdMtj2ucvk9taezPBrSy715aDM+nj6+PdX5oz0+O489idCLPRfMqz3tZkw+oZ45PuJ8Rz6oVrC9oDoAvmI8vr04Tuq9xSBLvlrgsz3TluS9UIVLPQ/EHLvdaAC+d6PiPSjjv72z2zo8XUT4PAfDD74FJ0W+gbgMvqOVgb5HPAC+jt2vvJq6cT3/M2k+lIlvvF7++D1/IwC9SJ4PvixzwL2umGc8eyzmvKO9kDwaMji+7p3pvUHMGL6NoEu+G/Ipvq4WML6V2sc7zZIaPkBNPD1seBU+AzPNPZbeez3uj5E9f2NPPNYa5rzr/hs8tRASO85/dLwjWp08XW8KPYzdGr2C+Tm+VJm1vi8+ZL5hzL29eAhivW6oZb30DXO9oxNBvVhRkD3vZ609xCKYPNaLRjxQr+G9W6L1u5bemLyEfEI992v9vMNmTzyt8Fy9YIS4PPtgOzuHUKA8FtNhvZZMGj2DpMC9bwaOvkLfmL0OFIE9dIa5PW30jj37oSU9zYw8vanQo73MUxu+YJiAvsTqUb6GPaO+EkMsvnbFnDyhlBu+flCDPJs5Or6ye9E8L4LoPSTC8r0RwQQ+zBQLvm22Pb41NhG+cqIQvoxTQL2jj/i9ZTcsvRRQSr2UzBs94OMOPiT+jT4FDUK9VTMlvej2U72b8VC98UYTvSDT1rzQK0I7a7osvSxUPb0XkFS8G8wOPJcoF73Wgja8ApWcveGF1b2Afpe9PXTUu3NGMb1JXVc7IQvTvbZiMbxNsB29"
         },
         "type": "scatter3d"
        }
       ],
       "layout": {
        "template": {
         "data": {
          "histogram2dcontour": [
           {
            "type": "histogram2dcontour",
            "colorbar": {
             "outlinewidth": 0,
             "ticks": ""
            },
            "colorscale": [
             [
              0.0,
              "#0d0887"
             ],
             [
              0.1111111111111111,
              "#46039f"
             ],
             [
              0.2222222222222222,
              "#7201a8"
             ],
             [
              0.3333333333333333,
              "#9c179e"
             ],
             [
              0.4444444444444444,
              "#bd3786"
             ],
             [
              0.5555555555555556,
              "#d8576b"
             ],
             [
              0.6666666666666666,
              "#ed7953"
             ],
             [
              0.7777777777777778,
              "#fb9f3a"
             ],
             [
              0.8888888888888888,
              "#fdca26"
             ],
             [
              1.0,
              "#f0f921"
             ]
            ]
           }
          ],
          "choropleth": [
           {
            "type": "choropleth",
            "colorbar": {
             "outlinewidth": 0,
             "ticks": ""
            }
           }
          ],
          "histogram2d": [
           {
            "type": "histogram2d",
            "colorbar": {
             "outlinewidth": 0,
             "ticks": ""
            },
            "colorscale": [
             [
              0.0,
              "#0d0887"
             ],
             [
              0.1111111111111111,
              "#46039f"
             ],
             [
              0.2222222222222222,
              "#7201a8"
             ],
             [
              0.3333333333333333,
              "#9c179e"
             ],
             [
              0.4444444444444444,
              "#bd3786"
             ],
             [
              0.5555555555555556,
              "#d8576b"
             ],
             [
              0.6666666666666666,
              "#ed7953"
             ],
             [
              0.7777777777777778,
              "#fb9f3a"
             ],
             [
              0.8888888888888888,
              "#fdca26"
             ],
             [
              1.0,
              "#f0f921"
             ]
            ]
           }
          ],
          "heatmap": [
           {
            "type": "heatmap",
            "colorbar": {
             "outlinewidth": 0,
             "ticks": ""
            },
            "colorscale": [
             [
              0.0,
              "#0d0887"
             ],
             [
              0.1111111111111111,
              "#46039f"
             ],
             [
              0.2222222222222222,
              "#7201a8"
             ],
             [
              0.3333333333333333,
              "#9c179e"
             ],
             [
              0.4444444444444444,
              "#bd3786"
             ],
             [
              0.5555555555555556,
              "#d8576b"
             ],
             [
              0.6666666666666666,
              "#ed7953"
             ],
             [
              0.7777777777777778,
              "#fb9f3a"
             ],
             [
              0.8888888888888888,
              "#fdca26"
             ],
             [
              1.0,
              "#f0f921"
             ]
            ]
           }
          ],
          "contourcarpet": [
           {
            "type": "contourcarpet",
            "colorbar": {
             "outlinewidth": 0,
             "ticks": ""
            }
           }
          ],
          "contour": [
           {
            "type": "contour",
            "colorbar": {
             "outlinewidth": 0,
             "ticks": ""
            },
            "colorscale": [
             [
              0.0,
              "#0d0887"
             ],
             [
              0.1111111111111111,
              "#46039f"
             ],
             [
              0.2222222222222222,
              "#7201a8"
             ],
             [
              0.3333333333333333,
              "#9c179e"
             ],
             [
              0.4444444444444444,
              "#bd3786"
             ],
             [
              0.5555555555555556,
              "#d8576b"
             ],
             [
              0.6666666666666666,
              "#ed7953"
             ],
             [
              0.7777777777777778,
              "#fb9f3a"
             ],
             [
              0.8888888888888888,
              "#fdca26"
             ],
             [
              1.0,
              "#f0f921"
             ]
            ]
           }
          ],
          "surface": [
           {
            "type": "surface",
            "colorbar": {
             "outlinewidth": 0,
             "ticks": ""
            },
            "colorscale": [
             [
              0.0,
              "#0d0887"
             ],
             [
              0.1111111111111111,
              "#46039f"
             ],
             [
              0.2222222222222222,
              "#7201a8"
             ],
             [
              0.3333333333333333,
              "#9c179e"
             ],
             [
              0.4444444444444444,
              "#bd3786"
             ],
             [
              0.5555555555555556,
              "#d8576b"
             ],
             [
              0.6666666666666666,
              "#ed7953"
             ],
             [
              0.7777777777777778,
              "#fb9f3a"
             ],
             [
              0.8888888888888888,
              "#fdca26"
             ],
             [
              1.0,
              "#f0f921"
             ]
            ]
           }
          ],
          "mesh3d": [
           {
            "type": "mesh3d",
            "colorbar": {
             "outlinewidth": 0,
             "ticks": ""
            }
           }
          ],
          "scatter": [
           {
            "marker": {
             "line": {
              "color": "#283442"
             }
            },
            "type": "scatter"
           }
          ],
          "parcoords": [
           {
            "type": "parcoords",
            "line": {
             "colorbar": {
              "outlinewidth": 0,
              "ticks": ""
             }
            }
           }
          ],
          "scatterpolargl": [
           {
            "type": "scatterpolargl",
            "marker": {
             "colorbar": {
              "outlinewidth": 0,
              "ticks": ""
             }
            }
           }
          ],
          "bar": [
           {
            "error_x": {
             "color": "#f2f5fa"
            },
            "error_y": {
             "color": "#f2f5fa"
            },
            "marker": {
             "line": {
              "color": "rgb(17,17,17)",
              "width": 0.5
             },
             "pattern": {
              "fillmode": "overlay",
              "size": 10,
              "solidity": 0.2
             }
            },
            "type": "bar"
           }
          ],
          "scattergeo": [
           {
            "type": "scattergeo",
            "marker": {
             "colorbar": {
              "outlinewidth": 0,
              "ticks": ""
             }
            }
           }
          ],
          "scatterpolar": [
           {
            "type": "scatterpolar",
            "marker": {
             "colorbar": {
              "outlinewidth": 0,
              "ticks": ""
             }
            }
           }
          ],
          "histogram": [
           {
            "marker": {
             "pattern": {
              "fillmode": "overlay",
              "size": 10,
              "solidity": 0.2
             }
            },
            "type": "histogram"
           }
          ],
          "scattergl": [
           {
            "marker": {
             "line": {
              "color": "#283442"
             }
            },
            "type": "scattergl"
           }
          ],
          "scatter3d": [
           {
            "type": "scatter3d",
            "line": {
             "colorbar": {
              "outlinewidth": 0,
              "ticks": ""
             }
            },
            "marker": {
             "colorbar": {
              "outlinewidth": 0,
              "ticks": ""
             }
            }
           }
          ],
          "scattermap": [
           {
            "type": "scattermap",
            "marker": {
             "colorbar": {
              "outlinewidth": 0,
              "ticks": ""
             }
            }
           }
          ],
          "scattermapbox": [
           {
            "type": "scattermapbox",
            "marker": {
             "colorbar": {
              "outlinewidth": 0,
              "ticks": ""
             }
            }
           }
          ],
          "scatterternary": [
           {
            "type": "scatterternary",
            "marker": {
             "colorbar": {
              "outlinewidth": 0,
              "ticks": ""
             }
            }
           }
          ],
          "scattercarpet": [
           {
            "type": "scattercarpet",
            "marker": {
             "colorbar": {
              "outlinewidth": 0,
              "ticks": ""
             }
            }
           }
          ],
          "carpet": [
           {
            "aaxis": {
             "endlinecolor": "#A2B1C6",
             "gridcolor": "#506784",
             "linecolor": "#506784",
             "minorgridcolor": "#506784",
             "startlinecolor": "#A2B1C6"
            },
            "baxis": {
             "endlinecolor": "#A2B1C6",
             "gridcolor": "#506784",
             "linecolor": "#506784",
             "minorgridcolor": "#506784",
             "startlinecolor": "#A2B1C6"
            },
            "type": "carpet"
           }
          ],
          "table": [
           {
            "cells": {
             "fill": {
              "color": "#506784"
             },
             "line": {
              "color": "rgb(17,17,17)"
             }
            },
            "header": {
             "fill": {
              "color": "#2a3f5f"
             },
             "line": {
              "color": "rgb(17,17,17)"
             }
            },
            "type": "table"
           }
          ],
          "barpolar": [
           {
            "marker": {
             "line": {
              "color": "rgb(17,17,17)",
              "width": 0.5
             },
             "pattern": {
              "fillmode": "overlay",
              "size": 10,
              "solidity": 0.2
             }
            },
            "type": "barpolar"
           }
          ],
          "pie": [
           {
            "automargin": true,
            "type": "pie"
           }
          ]
         },
         "layout": {
          "autotypenumbers": "strict",
          "colorway": [
           "#636efa",
           "#EF553B",
           "#00cc96",
           "#ab63fa",
           "#FFA15A",
           "#19d3f3",
           "#FF6692",
           "#B6E880",
           "#FF97FF",
           "#FECB52"
          ],
          "font": {
           "color": "#f2f5fa"
          },
          "hovermode": "closest",
          "hoverlabel": {
           "align": "left"
          },
          "paper_bgcolor": "rgb(17,17,17)",
          "plot_bgcolor": "rgb(17,17,17)",
          "polar": {
           "bgcolor": "rgb(17,17,17)",
           "angularaxis": {
            "gridcolor": "#506784",
            "linecolor": "#506784",
            "ticks": ""
           },
           "radialaxis": {
            "gridcolor": "#506784",
            "linecolor": "#506784",
            "ticks": ""
           }
          },
          "ternary": {
           "bgcolor": "rgb(17,17,17)",
           "aaxis": {
            "gridcolor": "#506784",
            "linecolor": "#506784",
            "ticks": ""
           },
           "baxis": {
            "gridcolor": "#506784",
            "linecolor": "#506784",
            "ticks": ""
           },
           "caxis": {
            "gridcolor": "#506784",
            "linecolor": "#506784",
            "ticks": ""
           }
          },
          "coloraxis": {
           "colorbar": {
            "outlinewidth": 0,
            "ticks": ""
           }
          },
          "colorscale": {
           "sequential": [
            [
             0.0,
             "#0d0887"
            ],
            [
             0.1111111111111111,
             "#46039f"
            ],
            [
             0.2222222222222222,
             "#7201a8"
            ],
            [
             0.3333333333333333,
             "#9c179e"
            ],
            [
             0.4444444444444444,
             "#bd3786"
            ],
            [
             0.5555555555555556,
             "#d8576b"
            ],
            [
             0.6666666666666666,
             "#ed7953"
            ],
            [
             0.7777777777777778,
             "#fb9f3a"
            ],
            [
             0.8888888888888888,
             "#fdca26"
            ],
            [
             1.0,
             "#f0f921"
            ]
           ],
           "sequentialminus": [
            [
             0.0,
             "#0d0887"
            ],
            [
             0.1111111111111111,
             "#46039f"
            ],
            [
             0.2222222222222222,
             "#7201a8"
            ],
            [
             0.3333333333333333,
             "#9c179e"
            ],
            [
             0.4444444444444444,
             "#bd3786"
            ],
            [
             0.5555555555555556,
             "#d8576b"
            ],
            [
             0.6666666666666666,
             "#ed7953"
            ],
            [
             0.7777777777777778,
             "#fb9f3a"
            ],
            [
             0.8888888888888888,
             "#fdca26"
            ],
            [
             1.0,
             "#f0f921"
            ]
           ],
           "diverging": [
            [
             0,
             "#8e0152"
            ],
            [
             0.1,
             "#c51b7d"
            ],
            [
             0.2,
             "#de77ae"
            ],
            [
             0.3,
             "#f1b6da"
            ],
            [
             0.4,
             "#fde0ef"
            ],
            [
             0.5,
             "#f7f7f7"
            ],
            [
             0.6,
             "#e6f5d0"
            ],
            [
             0.7,
             "#b8e186"
            ],
            [
             0.8,
             "#7fbc41"
            ],
            [
             0.9,
             "#4d9221"
            ],
            [
             1,
             "#276419"
            ]
           ]
          },
          "xaxis": {
           "gridcolor": "#283442",
           "linecolor": "#506784",
           "ticks": "",
           "title": {
            "standoff": 15
           },
           "zerolinecolor": "#283442",
           "automargin": true,
           "zerolinewidth": 2
          },
          "yaxis": {
           "gridcolor": "#283442",
           "linecolor": "#506784",
           "ticks": "",
           "title": {
            "standoff": 15
           },
           "zerolinecolor": "#283442",
           "automargin": true,
           "zerolinewidth": 2
          },
          "scene": {
           "xaxis": {
            "backgroundcolor": "rgb(17,17,17)",
            "gridcolor": "#506784",
            "linecolor": "#506784",
            "showbackground": true,
            "ticks": "",
            "zerolinecolor": "#C8D4E3",
            "gridwidth": 2
           },
           "yaxis": {
            "backgroundcolor": "rgb(17,17,17)",
            "gridcolor": "#506784",
            "linecolor": "#506784",
            "showbackground": true,
            "ticks": "",
            "zerolinecolor": "#C8D4E3",
            "gridwidth": 2
           },
           "zaxis": {
            "backgroundcolor": "rgb(17,17,17)",
            "gridcolor": "#506784",
            "linecolor": "#506784",
            "showbackground": true,
            "ticks": "",
            "zerolinecolor": "#C8D4E3",
            "gridwidth": 2
           }
          },
          "shapedefaults": {
           "line": {
            "color": "#f2f5fa"
           }
          },
          "annotationdefaults": {
           "arrowcolor": "#f2f5fa",
           "arrowhead": 0,
           "arrowwidth": 1
          },
          "geo": {
           "bgcolor": "rgb(17,17,17)",
           "landcolor": "rgb(17,17,17)",
           "subunitcolor": "#506784",
           "showland": true,
           "showlakes": true,
           "lakecolor": "rgb(17,17,17)"
          },
          "title": {
           "x": 0.05
          },
          "updatemenudefaults": {
           "bgcolor": "#506784",
           "borderwidth": 0
          },
          "sliderdefaults": {
           "bgcolor": "#C8D4E3",
           "borderwidth": 1,
           "bordercolor": "rgb(17,17,17)",
           "tickwidth": 0
          },
          "mapbox": {
           "style": "dark"
          }
         }
        },
        "scene": {
         "domain": {
          "x": [
           0.0,
           1.0
          ],
          "y": [
           0.0,
           1.0
          ]
         },
         "xaxis": {
          "title": {
           "text": "PCA-1"
          }
         },
         "yaxis": {
          "title": {
           "text": "PCA-2"
          }
         },
         "zaxis": {
          "title": {
           "text": "PCA-3"
          }
         }
        },
        "coloraxis": {
         "colorbar": {
          "title": {
           "text": "label"
          }
         },
         "colorscale": [
          [
           0.0,
           "#0d0887"
          ],
          [
           0.1111111111111111,
           "#46039f"
          ],
          [
           0.2222222222222222,
           "#7201a8"
          ],
          [
           0.3333333333333333,
           "#9c179e"
          ],
          [
           0.4444444444444444,
           "#bd3786"
          ],
          [
           0.5555555555555556,
           "#d8576b"
          ],
          [
           0.6666666666666666,
           "#ed7953"
          ],
          [
           0.7777777777777778,
           "#fb9f3a"
          ],
          [
           0.8888888888888888,
           "#fdca26"
          ],
          [
           1.0,
           "#f0f921"
          ]
         ]
        },
        "legend": {
         "tracegroupgap": 0
        },
        "title": {
         "text": "3D PCA Projection of Chunk Embeddings"
        }
       },
       "config": {
        "plotlyServerURL": "https://plot.ly"
       }
      }
     },
     "metadata": {},
     "output_type": "display_data"
    }
   ],
   "execution_count": 30
  },
  {
   "metadata": {},
   "cell_type": "markdown",
   "source": [
    "## Store to FAISS Vector Database\n",
    "Let's add these chunks and embeddings to vector store, FAISS"
   ],
   "id": "97045b4c8b3dcfe2"
  },
  {
   "metadata": {
    "ExecuteTime": {
     "end_time": "2025-10-31T22:55:40.674692Z",
     "start_time": "2025-10-31T22:55:40.670350Z"
    }
   },
   "cell_type": "code",
   "source": [
    "from langchain_community.vectorstores import FAISS\n",
    "import numpy as np\n",
    "import faiss"
   ],
   "id": "b666f97bce051a15",
   "outputs": [],
   "execution_count": 46
  },
  {
   "metadata": {
    "ExecuteTime": {
     "end_time": "2025-10-31T23:04:30.869991Z",
     "start_time": "2025-10-31T23:04:30.866230Z"
    }
   },
   "cell_type": "code",
   "source": [
    "#\n",
    "embeddings = embedded_chunks.astype(np.float32)\n",
    "# Create FAISS index\n",
    "dimension = embeddings.shape[1]\n",
    "index = faiss.IndexFlatL2(dimension)\n",
    "index.add(embeddings)\n"
   ],
   "id": "e18d383e513b2d5b",
   "outputs": [],
   "execution_count": 58
  },
  {
   "metadata": {},
   "cell_type": "markdown",
   "source": "Retrieval",
   "id": "8941114233910c5a"
  },
  {
   "metadata": {
    "ExecuteTime": {
     "end_time": "2025-10-31T23:04:35.216536Z",
     "start_time": "2025-10-31T23:04:34.444359Z"
    }
   },
   "cell_type": "code",
   "source": [
    "# user's question\n",
    "query=\"how does prince spend on colonies?\"\n",
    "# Text embedding\n",
    "query_embedding = embed_chunks(query)\n",
    "query_embedding = query_embedding.astype(np.float32)\n",
    "print(f\"[{query[0:32]} ...] => {query_embedding[0:6]} ...\")"
   ],
   "id": "4a2c249038940144",
   "outputs": [
    {
     "name": "stdout",
     "output_type": "stream",
     "text": [
      "[how does prince spend on colonie ...] => [ 0.07936594  0.03161814  0.02778805  0.01992936 -0.02159635  0.02209677] ...\n"
     ]
    }
   ],
   "execution_count": 59
  },
  {
   "metadata": {},
   "cell_type": "markdown",
   "source": "Query vector store",
   "id": "39943cd48859ada5"
  },
  {
   "metadata": {
    "ExecuteTime": {
     "end_time": "2025-10-31T23:19:39.194145Z",
     "start_time": "2025-10-31T23:19:39.190579Z"
    }
   },
   "cell_type": "code",
   "source": [
    "k = 5  # Number of closest chunks to retrieve\n",
    "Dist,Idx = index.search(np.array(query_embedding).reshape(1,-1), k)"
   ],
   "id": "55fea4671eb9006b",
   "outputs": [],
   "execution_count": 64
  },
  {
   "metadata": {},
   "cell_type": "markdown",
   "source": "Let's show the chunk and associated embedding vector",
   "id": "fc9853d3a044a5ca"
  },
  {
   "metadata": {
    "ExecuteTime": {
     "end_time": "2025-10-31T23:22:10.320370Z",
     "start_time": "2025-10-31T23:22:10.315403Z"
    }
   },
   "cell_type": "code",
   "source": [
    "print(Dist[0])\n",
    "print(Idx[0])\n",
    "for i in range(0,len(Dist[0])):\n",
    "    print(f\"[{Idx[0][i]} ...] => {Dist[0][i]} ...\")"
   ],
   "id": "d7d8067f81d4316d",
   "outputs": [
    {
     "name": "stdout",
     "output_type": "stream",
     "text": [
      "[0.6233611  0.80214566 0.9289033  0.9457941  0.9561129 ]\n",
      "[ 43  42 221  44  64]\n",
      "[43 ...] => 0.6233611106872559 ...\n",
      "[42 ...] => 0.8021456599235535 ...\n",
      "[221 ...] => 0.9289032816886902 ...\n",
      "[44 ...] => 0.9457941055297852 ...\n",
      "[64 ...] => 0.9561129212379456 ...\n"
     ]
    }
   ],
   "execution_count": 70
  },
  {
   "metadata": {},
   "cell_type": "markdown",
   "source": "Building dataframe incrementally, column by column.",
   "id": "bf12a5548d1c966b"
  },
  {
   "metadata": {
    "ExecuteTime": {
     "end_time": "2025-10-31T23:31:49.499522Z",
     "start_time": "2025-10-31T23:31:49.492689Z"
    }
   },
   "cell_type": "code",
   "source": [
    "df_idx = pd.DataFrame(Idx[0])\n",
    "df_idx"
   ],
   "id": "ad26794d19e09f62",
   "outputs": [
    {
     "data": {
      "text/plain": [
       "     0\n",
       "0   43\n",
       "1   42\n",
       "2  221\n",
       "3   44\n",
       "4   64"
      ],
      "text/html": [
       "<div>\n",
       "<style scoped>\n",
       "    .dataframe tbody tr th:only-of-type {\n",
       "        vertical-align: middle;\n",
       "    }\n",
       "\n",
       "    .dataframe tbody tr th {\n",
       "        vertical-align: top;\n",
       "    }\n",
       "\n",
       "    .dataframe thead th {\n",
       "        text-align: right;\n",
       "    }\n",
       "</style>\n",
       "<table border=\"1\" class=\"dataframe\">\n",
       "  <thead>\n",
       "    <tr style=\"text-align: right;\">\n",
       "      <th></th>\n",
       "      <th>0</th>\n",
       "    </tr>\n",
       "  </thead>\n",
       "  <tbody>\n",
       "    <tr>\n",
       "      <th>0</th>\n",
       "      <td>43</td>\n",
       "    </tr>\n",
       "    <tr>\n",
       "      <th>1</th>\n",
       "      <td>42</td>\n",
       "    </tr>\n",
       "    <tr>\n",
       "      <th>2</th>\n",
       "      <td>221</td>\n",
       "    </tr>\n",
       "    <tr>\n",
       "      <th>3</th>\n",
       "      <td>44</td>\n",
       "    </tr>\n",
       "    <tr>\n",
       "      <th>4</th>\n",
       "      <td>64</td>\n",
       "    </tr>\n",
       "  </tbody>\n",
       "</table>\n",
       "</div>"
      ]
     },
     "execution_count": 84,
     "metadata": {},
     "output_type": "execute_result"
    }
   ],
   "execution_count": 84
  },
  {
   "metadata": {
    "ExecuteTime": {
     "end_time": "2025-10-31T23:31:52.104216Z",
     "start_time": "2025-10-31T23:31:52.097344Z"
    }
   },
   "cell_type": "code",
   "source": [
    "df_dist = pd.DataFrame(Dist[0])\n",
    "df_dist"
   ],
   "id": "edb91eeb009d1425",
   "outputs": [
    {
     "data": {
      "text/plain": [
       "          0\n",
       "0  0.623361\n",
       "1  0.802146\n",
       "2  0.928903\n",
       "3  0.945794\n",
       "4  0.956113"
      ],
      "text/html": [
       "<div>\n",
       "<style scoped>\n",
       "    .dataframe tbody tr th:only-of-type {\n",
       "        vertical-align: middle;\n",
       "    }\n",
       "\n",
       "    .dataframe tbody tr th {\n",
       "        vertical-align: top;\n",
       "    }\n",
       "\n",
       "    .dataframe thead th {\n",
       "        text-align: right;\n",
       "    }\n",
       "</style>\n",
       "<table border=\"1\" class=\"dataframe\">\n",
       "  <thead>\n",
       "    <tr style=\"text-align: right;\">\n",
       "      <th></th>\n",
       "      <th>0</th>\n",
       "    </tr>\n",
       "  </thead>\n",
       "  <tbody>\n",
       "    <tr>\n",
       "      <th>0</th>\n",
       "      <td>0.623361</td>\n",
       "    </tr>\n",
       "    <tr>\n",
       "      <th>1</th>\n",
       "      <td>0.802146</td>\n",
       "    </tr>\n",
       "    <tr>\n",
       "      <th>2</th>\n",
       "      <td>0.928903</td>\n",
       "    </tr>\n",
       "    <tr>\n",
       "      <th>3</th>\n",
       "      <td>0.945794</td>\n",
       "    </tr>\n",
       "    <tr>\n",
       "      <th>4</th>\n",
       "      <td>0.956113</td>\n",
       "    </tr>\n",
       "  </tbody>\n",
       "</table>\n",
       "</div>"
      ]
     },
     "execution_count": 85,
     "metadata": {},
     "output_type": "execute_result"
    }
   ],
   "execution_count": 85
  },
  {
   "metadata": {
    "ExecuteTime": {
     "end_time": "2025-10-31T23:34:31.134156Z",
     "start_time": "2025-10-31T23:34:31.125693Z"
    }
   },
   "cell_type": "code",
   "source": [
    "df_knn =  pd.concat([df_idx, df_dist], axis=1)\n",
    "df_knn.columns=['Index', 'Distance']\n",
    "df_knn"
   ],
   "id": "329079fd936ae41e",
   "outputs": [
    {
     "data": {
      "text/plain": [
       "   Index  Distance\n",
       "0     43  0.623361\n",
       "1     42  0.802146\n",
       "2    221  0.928903\n",
       "3     44  0.945794\n",
       "4     64  0.956113"
      ],
      "text/html": [
       "<div>\n",
       "<style scoped>\n",
       "    .dataframe tbody tr th:only-of-type {\n",
       "        vertical-align: middle;\n",
       "    }\n",
       "\n",
       "    .dataframe tbody tr th {\n",
       "        vertical-align: top;\n",
       "    }\n",
       "\n",
       "    .dataframe thead th {\n",
       "        text-align: right;\n",
       "    }\n",
       "</style>\n",
       "<table border=\"1\" class=\"dataframe\">\n",
       "  <thead>\n",
       "    <tr style=\"text-align: right;\">\n",
       "      <th></th>\n",
       "      <th>Index</th>\n",
       "      <th>Distance</th>\n",
       "    </tr>\n",
       "  </thead>\n",
       "  <tbody>\n",
       "    <tr>\n",
       "      <th>0</th>\n",
       "      <td>43</td>\n",
       "      <td>0.623361</td>\n",
       "    </tr>\n",
       "    <tr>\n",
       "      <th>1</th>\n",
       "      <td>42</td>\n",
       "      <td>0.802146</td>\n",
       "    </tr>\n",
       "    <tr>\n",
       "      <th>2</th>\n",
       "      <td>221</td>\n",
       "      <td>0.928903</td>\n",
       "    </tr>\n",
       "    <tr>\n",
       "      <th>3</th>\n",
       "      <td>44</td>\n",
       "      <td>0.945794</td>\n",
       "    </tr>\n",
       "    <tr>\n",
       "      <th>4</th>\n",
       "      <td>64</td>\n",
       "      <td>0.956113</td>\n",
       "    </tr>\n",
       "  </tbody>\n",
       "</table>\n",
       "</div>"
      ]
     },
     "execution_count": 90,
     "metadata": {},
     "output_type": "execute_result"
    }
   ],
   "execution_count": 90
  },
  {
   "metadata": {
    "ExecuteTime": {
     "end_time": "2025-10-31T23:50:30.688610Z",
     "start_time": "2025-10-31T23:50:30.684643Z"
    }
   },
   "cell_type": "code",
   "source": [
    "myLookUp = {}\n",
    "for idx in df_knn['Index']:\n",
    "    print(f\"[{idx} ...] => ...{chunks[idx][:64]}\")\n",
    "    myLookUp[idx] = chunks[idx]"
   ],
   "id": "7e0e9e72b5c9ae46",
   "outputs": [
    {
     "name": "stdout",
     "output_type": "stream",
     "text": [
      "[43 ...] => ...prince does not spend much on colonies, for with little or no ex\n",
      "[42 ...] => ...spot, disorders are seen as they spring up, and one can quickly \n",
      "[221 ...] => ...Never let any Government imagine that it can choose perfectly sa\n",
      "[44 ...] => ...ones they cannot; therefore the injury that is to be done to a m\n",
      "[64 ...] => ...this is not occasioned by the little or abundance of ability in \n"
     ]
    }
   ],
   "execution_count": 102
  },
  {
   "metadata": {
    "ExecuteTime": {
     "end_time": "2025-10-31T23:50:33.155260Z",
     "start_time": "2025-10-31T23:50:33.146513Z"
    }
   },
   "cell_type": "code",
   "source": [
    "df_knn['Chunk'] = df_knn['Index'].apply(lambda x: myLookUp.get(x))\n",
    "df_knn"
   ],
   "id": "74425ed60e53f3e9",
   "outputs": [
    {
     "data": {
      "text/plain": [
       "   Index  Distance                                              Chunk\n",
       "0     43  0.623361  prince does not spend much on colonies, for wi...\n",
       "1     42  0.802146  spot, disorders are seen as they spring up, an...\n",
       "2    221  0.928903  Never let any Government imagine that it can c...\n",
       "3     44  0.945794  ones they cannot; therefore the injury that is...\n",
       "4     64  0.956113  this is not occasioned by the little or abunda..."
      ],
      "text/html": [
       "<div>\n",
       "<style scoped>\n",
       "    .dataframe tbody tr th:only-of-type {\n",
       "        vertical-align: middle;\n",
       "    }\n",
       "\n",
       "    .dataframe tbody tr th {\n",
       "        vertical-align: top;\n",
       "    }\n",
       "\n",
       "    .dataframe thead th {\n",
       "        text-align: right;\n",
       "    }\n",
       "</style>\n",
       "<table border=\"1\" class=\"dataframe\">\n",
       "  <thead>\n",
       "    <tr style=\"text-align: right;\">\n",
       "      <th></th>\n",
       "      <th>Index</th>\n",
       "      <th>Distance</th>\n",
       "      <th>Chunk</th>\n",
       "    </tr>\n",
       "  </thead>\n",
       "  <tbody>\n",
       "    <tr>\n",
       "      <th>0</th>\n",
       "      <td>43</td>\n",
       "      <td>0.623361</td>\n",
       "      <td>prince does not spend much on colonies, for wi...</td>\n",
       "    </tr>\n",
       "    <tr>\n",
       "      <th>1</th>\n",
       "      <td>42</td>\n",
       "      <td>0.802146</td>\n",
       "      <td>spot, disorders are seen as they spring up, an...</td>\n",
       "    </tr>\n",
       "    <tr>\n",
       "      <th>2</th>\n",
       "      <td>221</td>\n",
       "      <td>0.928903</td>\n",
       "      <td>Never let any Government imagine that it can c...</td>\n",
       "    </tr>\n",
       "    <tr>\n",
       "      <th>3</th>\n",
       "      <td>44</td>\n",
       "      <td>0.945794</td>\n",
       "      <td>ones they cannot; therefore the injury that is...</td>\n",
       "    </tr>\n",
       "    <tr>\n",
       "      <th>4</th>\n",
       "      <td>64</td>\n",
       "      <td>0.956113</td>\n",
       "      <td>this is not occasioned by the little or abunda...</td>\n",
       "    </tr>\n",
       "  </tbody>\n",
       "</table>\n",
       "</div>"
      ]
     },
     "execution_count": 103,
     "metadata": {},
     "output_type": "execute_result"
    }
   ],
   "execution_count": 103
  },
  {
   "metadata": {
    "ExecuteTime": {
     "end_time": "2025-10-31T23:55:37.821403Z",
     "start_time": "2025-10-31T23:55:37.808609Z"
    }
   },
   "cell_type": "code",
   "source": [
    "df_knn['Embedding'] =  df_knn['Index'].apply(lambda x: embedded_chunks[x])\n",
    "df_knn"
   ],
   "id": "1b10be16829efaa0",
   "outputs": [
    {
     "data": {
      "text/plain": [
       "   Index  Distance                                              Chunk  \\\n",
       "0     43  0.623361  prince does not spend much on colonies, for wi...   \n",
       "1     42  0.802146  spot, disorders are seen as they spring up, an...   \n",
       "2    221  0.928903  Never let any Government imagine that it can c...   \n",
       "3     44  0.945794  ones they cannot; therefore the injury that is...   \n",
       "4     64  0.956113  this is not occasioned by the little or abunda...   \n",
       "\n",
       "                                           Embedding  \n",
       "0  [0.058890715, 0.04274347, 0.09256141, 0.044749...  \n",
       "1  [0.079357, 0.061069474, 0.08273438, 0.02950769...  \n",
       "2  [0.050540738, 0.10423061, 0.01961176, -0.04452...  \n",
       "3  [0.009223385, 0.07131818, 0.052186664, 0.00611...  \n",
       "4  [0.013173358, 0.102018714, 0.061939694, -0.027...  "
      ],
      "text/html": [
       "<div>\n",
       "<style scoped>\n",
       "    .dataframe tbody tr th:only-of-type {\n",
       "        vertical-align: middle;\n",
       "    }\n",
       "\n",
       "    .dataframe tbody tr th {\n",
       "        vertical-align: top;\n",
       "    }\n",
       "\n",
       "    .dataframe thead th {\n",
       "        text-align: right;\n",
       "    }\n",
       "</style>\n",
       "<table border=\"1\" class=\"dataframe\">\n",
       "  <thead>\n",
       "    <tr style=\"text-align: right;\">\n",
       "      <th></th>\n",
       "      <th>Index</th>\n",
       "      <th>Distance</th>\n",
       "      <th>Chunk</th>\n",
       "      <th>Embedding</th>\n",
       "    </tr>\n",
       "  </thead>\n",
       "  <tbody>\n",
       "    <tr>\n",
       "      <th>0</th>\n",
       "      <td>43</td>\n",
       "      <td>0.623361</td>\n",
       "      <td>prince does not spend much on colonies, for wi...</td>\n",
       "      <td>[0.058890715, 0.04274347, 0.09256141, 0.044749...</td>\n",
       "    </tr>\n",
       "    <tr>\n",
       "      <th>1</th>\n",
       "      <td>42</td>\n",
       "      <td>0.802146</td>\n",
       "      <td>spot, disorders are seen as they spring up, an...</td>\n",
       "      <td>[0.079357, 0.061069474, 0.08273438, 0.02950769...</td>\n",
       "    </tr>\n",
       "    <tr>\n",
       "      <th>2</th>\n",
       "      <td>221</td>\n",
       "      <td>0.928903</td>\n",
       "      <td>Never let any Government imagine that it can c...</td>\n",
       "      <td>[0.050540738, 0.10423061, 0.01961176, -0.04452...</td>\n",
       "    </tr>\n",
       "    <tr>\n",
       "      <th>3</th>\n",
       "      <td>44</td>\n",
       "      <td>0.945794</td>\n",
       "      <td>ones they cannot; therefore the injury that is...</td>\n",
       "      <td>[0.009223385, 0.07131818, 0.052186664, 0.00611...</td>\n",
       "    </tr>\n",
       "    <tr>\n",
       "      <th>4</th>\n",
       "      <td>64</td>\n",
       "      <td>0.956113</td>\n",
       "      <td>this is not occasioned by the little or abunda...</td>\n",
       "      <td>[0.013173358, 0.102018714, 0.061939694, -0.027...</td>\n",
       "    </tr>\n",
       "  </tbody>\n",
       "</table>\n",
       "</div>"
      ]
     },
     "execution_count": 105,
     "metadata": {},
     "output_type": "execute_result"
    }
   ],
   "execution_count": 105
  },
  {
   "metadata": {},
   "cell_type": "markdown",
   "source": "Now, each row contains the chunk identifier, distance to query in vector space, chunk content, and corresponding embedding.",
   "id": "36fc112f1d819ebc"
  },
  {
   "metadata": {
    "ExecuteTime": {
     "end_time": "2025-11-01T00:17:16.715484Z",
     "start_time": "2025-11-01T00:17:16.709447Z"
    }
   },
   "cell_type": "code",
   "source": [
    "import numpy as np\n",
    "print(f\"{embedded_chunks.shape}\")\n",
    "print(f\"{query_embedding.shape}\")\n",
    "new_embedded_chunks =  np.vstack([embedded_chunks, query_embedding])\n",
    "print(f\"{new_embedded_chunks.shape}\")\n",
    "print(f\"{new_embedded_chunks[-1][0:10]}\")\n",
    "print(f\"{query_embedding[0:10]}\")\n"
   ],
   "id": "d4530145459280a7",
   "outputs": [
    {
     "name": "stdout",
     "output_type": "stream",
     "text": [
      "(363, 384)\n",
      "(384,)\n",
      "(364, 384)\n",
      "[ 0.07936594  0.03161814  0.02778805  0.01992936 -0.02159635  0.02209677\n",
      "  0.07553166 -0.06156521 -0.10973464  0.05012861]\n",
      "[ 0.07936594  0.03161814  0.02778805  0.01992936 -0.02159635  0.02209677\n",
      "  0.07553166 -0.06156521 -0.10973464  0.05012861]\n"
     ]
    }
   ],
   "execution_count": 117
  },
  {
   "metadata": {},
   "cell_type": "markdown",
   "source": "Because the vector space has 384 dimensions, it needs to be projected to 2D/3D space for visualization.",
   "id": "1ff3ce330c4798ae"
  },
  {
   "metadata": {
    "ExecuteTime": {
     "end_time": "2025-11-01T00:18:50.687152Z",
     "start_time": "2025-11-01T00:18:48.804181Z"
    }
   },
   "cell_type": "code",
   "source": [
    "new_embedded_chunks =  np.vstack([embedded_chunks, query_embedding])\n",
    "tsne = TSNE(n_components=3, random_state=42,perplexity=30) # For 2D visualization\n",
    "reduced_embeddings3q = tsne.fit_transform(new_embedded_chunks)"
   ],
   "id": "7eada3f768271c8d",
   "outputs": [],
   "execution_count": 119
  },
  {
   "metadata": {},
   "cell_type": "markdown",
   "source": "t-SNE is used for projection.",
   "id": "2cb7d3a2d6270e11"
  },
  {
   "metadata": {
    "ExecuteTime": {
     "end_time": "2025-11-01T01:56:33.321662Z",
     "start_time": "2025-11-01T01:56:33.257008Z"
    }
   },
   "cell_type": "code",
   "source": [
    "#\n",
    "projections = reduced_embeddings3q\n",
    "df_tsne = pd.DataFrame(projections, columns=['TSNE-1', 'TSNE-2', 'TSNE-3'])\n",
    "y = [ 1 for i in range(len(reduced_embeddings3q))]\n",
    "for i in df_knn['Index']:\n",
    "    y[i]=2\n",
    "    #print(f\"[{i} ...] => y[{i}]={y[i]} ...\")\n",
    "y[-1] = 3\n",
    "#print(y)\n",
    "df_tsne['label'] = y\n",
    "## project query's embedding\n",
    "plot_embeddings_3d(df_tsne,title='3D t-SNE Projection of Chunk Embeddings; Yellow is query; Purple is kNN, augments')"
   ],
   "id": "60d4b79684137b1b",
   "outputs": [
    {
     "data": {
      "application/vnd.plotly.v1+json": {
       "data": [
        {
         "hovertemplate": "TSNE-1=%{x}<br>TSNE-2=%{y}<br>TSNE-3=%{z}<br>label=%{marker.color}<extra></extra>",
         "legendgroup": "",
         "marker": {
          "color": {
           "dtype": "i1",
           "bdata": "AQEBAQEBAQEBAQEBAQEBAQEBAQEBAQEBAQEBAQEBAQEBAQEBAQEBAQEBAgICAQEBAQEBAQEBAQEBAQEBAQEBAQIBAQEBAQEBAQEBAQEBAQEBAQEBAQEBAQEBAQEBAQEBAQEBAQEBAQEBAQEBAQEBAQEBAQEBAQEBAQEBAQEBAQEBAQEBAQEBAQEBAQEBAQEBAQEBAQEBAQEBAQEBAQEBAQEBAQEBAQEBAQEBAQEBAQEBAQEBAQEBAQEBAQEBAQEBAQEBAQEBAQEBAQEBAQEBAQEBAQEBAQEBAQEBAQECAQEBAQEBAQEBAQEBAQEBAQEBAQEBAQEBAQEBAQEBAQEBAQEBAQEBAQEBAQEBAQEBAQEBAQEBAQEBAQEBAQEBAQEBAQEBAQEBAQEBAQEBAQEBAQEBAQEBAQEBAQEBAQEBAQEBAQEBAQEBAQEBAQEBAQEBAQEBAQEBAQEBAQEBAQEBAQEBAQEBAQEBAQEBAw=="
          },
          "coloraxis": "coloraxis",
          "symbol": "circle",
          "size": 5
         },
         "mode": "markers",
         "name": "",
         "scene": "scene",
         "showlegend": false,
         "x": {
          "dtype": "f4",
          "bdata": "PB/wQI0axsAc4E3AS/xkQJKzTkG8QkxBRE8BQUcpsT+N+1lBgfBDQMV88UCKVkZBFC6IQe5ClkFLl1RBUriVQWJvCsAxRNE/p1fnQNPpDkFv7WRBX8N1QULDm0G/mINB4moxQR+5UEF18JhANY2ovUwoc8DhLYBBmeN3QTbpw0BBYWlArBC6QAHdMsEvjHXB8eRIwXqLF8Bt7p1BtX+PQX1RZcGPTi/BCYyPwQqijsFJg47B1eEnwUmcM8GuLQPBlxTMwPcdx0Emv5lBRekGQRdh0UD4OpBBbz6TQZt0mEGEnZ5BQl4NQBiMO8GUsYnBzEedwU6+gsHVvB2+9V3RwIayjcFNgtbA/s6gwaDWosAhMktAIr2xwIV0/0C8Lro/cbAKv9UjNEFHtldBtpSNwM1lQ7949kZBtiiCQeGzC0H4ElVAOvE/QA+AIsDqy67AoQUcwdlvdsHtgJnBfJbjQHR5H0ERhNtAM6+hQNa4s0AJElpABFqNQH6+y8C4FnbB4pqawe936cHf+ZK/gWMGPsyx47+HQkrBQfi6wc7vrcEfUyTBDAh8weT7DMHTyQDBBD78wFCFj8AwlQzB9nECwdr4EsH40zLBTOHAwR1kzMEzIpfBw6FZwdtc1MDE03FBnY6KQM+E2j99KQ1BYgQfQTFLu0BUJRZAdjg7wFJbJEEwbgDB9bghwaOnGUHi0gJBw7WxQLfyQ78mXHJBaXQNQbwB1MBb8gDAIrpWwLBQZ8DY8WnB3Gv5wJgxKcH46H3BSINlwUY1yEEhqkLBds7YQJ/CykBnJf1Az3B2QAu+OUE3B0tBVvg/QcXPWr/1LQA/BXI+wIuZUkDhuStA9HgcvT+MsT6peoxAO8w6wKMNlMDfIJPBuiCHwf8VSsFEwJzBPcbMwe4btMHk4zDBYjAvwXakasGqs6DBq/HYwLdoKsEiskzBfxc3wLNRosAZy9PAzQvdwImRBsGLBSbBFUVGwZLEA0GB+iFAea5BwYWglMHPOLjBDnmRwYlp2MEp3cvBNmW/wY+G7sEH3dvBQVTcwRhMk8GdFrTBJri+wcboicHnY6/BPdyVwfuFBUANQgO9ososwemhcz57Tw1Axs4TP7wD8r+JIwXBnx7XwYVO7cF2CfrBTFRMQCHRssDShj3BX3NNwMUjTsGpuGPBnzqWwQrhy0CAgby/i7TJQcXvw0HC/i1BzggCQdreiUBJFDJAtXcBQT88NkElFrdA+E+7P7uuPL840jTA6j5SQGEaeUEuJiRB93cHQHhSnkDzgZZBQYqAQUKMZkHEHWdB+dYZQUkL00AwUQlB/ceAQEJx0j9tCZC/PmVevSjOQMHYIQPBQ2KBQBKTJj/b/Mg/sg0Lv1eiUcBUXfnA2jZEwUEbqsB5h0bAIgL0wPpQZcFZVGTB3jwiwacLLMEZlITBRPhPwWxODsHQV43AOMzUQU7j4kG20/hBlU0SQrme/EFe4tRBKNXOQS7y90FlOdxBp6+qQXaXokHTRkpBXuwHQVyL2EB3bdRA54m1Py243D58Zz9BzOWdQZBhVkEa6XJBsKOGQYhSeEHhE15Ba2OiQZ0TlEE1VKlB1/y4QUWuZ0FMd7NARBWWQNvMlkEvjXtBgnQlQfLlpUAHDIdAlosTQSvKikCoNAe+3PhiwAiumz5OB45AlK3dQKqCJkG3zKs/X7AHwKHXsMBAbP3AArkOwfSkmcBDInXAM9+BwLFcEEEngQNBzhyYQaSIkUFaIoRB1N4KQXLUg0EWT69Brh71wbZIDEIXSQVCpyYGQrcG5kF0deJBa5n2QcyM1EGwY9hBqK7yQV7OA0G71dbA7rNdwK2UW8A3B1S/BMKkPrV3qsA6VqLAc1EFP2KNIb/1JcnABdAhwRc3q8C7JAzBl8zAwKv/icBMbje/dh7NwMvVWsE2o3bBqmliwcKGNcEoLCDB3/uGwQ=="
         },
         "y": {
          "dtype": "f4",
          "bdata": "/v62PwsSskE/qbpBWL9iwcKmn8E6Q4nBvoQgwROf7sA8Cz/BMBIRwX1mnMBAz6jAw4OiwA6y478NaofB3916wWMzAUIB6RJC7d+kwIOESMFjPzbB7OB/wX14DsH0BKvAhRPCwANznT/GlSE+0qfdvsYwoL/1uwbBK4k8we1KycAKRAFCXYn+QQMQykFzlbhBc93VQbi4zEEUMK7AGHr6wJEkiUGUO1RBdqz0QdzCB0LjAQJCg0nEQDZ+LEG4DCnAZ+31v2BDvMCKIw3BVMJCwQrQs8ChUjvB19ADwTY6NMACVFLAUmaJQJ8YmEFLSUxBAZEcQTQQikFHlo1As6vWQPvR1EHAnQdBzx/MQagXAUK8bMRBDBOKQXC5PEEqpXJBfaL8Qbw/FUIEuclBx+B0Qe3hLEE6pQJC7XANwZIdDsE7x1S/KukRwXpvOcGyUDXBejlewcCgK8G8Qz/BbgwUQM2az79sCxbAESHDP10ymEB9JO4+vMDXwHu76D8OvZzAC4DnwNCHjEDc1d3Bbpn6wXIn4cFUdYjAhbxNQNRrTUAJ89NBj2u7QVxA4UH5FMxBTFYBQsNkvEGOPkVBkSnqQFaIskHZyeRBCjvlQYqDtkGyEMVBUhKzQVMfv0F3STVAEHMawUDRuMB9Ln7Aj6SevreqhsB8dvFBcC2SwbPUGMHPxXfBNwUqwVaalsH1N6zB3iKmwc+5zMGsIbzB40OKwZZ+hMFSnMDBdKi3wO9UaMB0gjs+9lUvwYeNVsHpRYXBAUmYwRAcBMFq7B9BX9DaQRQpCEJu5QBCrb0OQs+l0UH3dqRB9pi8QX080kFRcZlBeMpPQa8gKUEoKD9By5A0QHLpmEBcNORAATzCQPnTTECsYWhBgL6gQdPfn0HXUYxA4HTwQM7XIkG16ZFBkAqAQSFLhUHxZHZB+1S5QeL010HLPuNBqRGjQf0KXkH+75FBImSKQf8FTkFZN0JBGJa9QAVDv8HH6OjAeL2RQcbxH0GUpgNBuedCQTnJ4ED0wOJAaZEdQAzIC0DB9rLAe3R0PwhkWz9mek8/n8OMwLimw0CknRxBEf6DQXmVrEGaQMFBnXhdwUPZ+EFEFYfBjJCsQbKXjkECV5lBlh+4QZ+CqUG0u5VBAXRxwS/jrz/2kalAlAirQX+Y4j+MuOY9kQcLvuafYsGQCOFBPOAXQaAYU0EuzapBsw2rQXeYu0GBAJlB1pR8Qe26LkH9wVRB8/Y8QXjYO0G6UhVByGdTQV68hEFK4HdBDi6OwWvKh0FYKkdB49b4QIfac0BpjfFA6MaOQWVdVUE8DZ7B+Q4SwWbnWcGWL4zBCMezwZhHu8Ho68PBToetwS4MicHEa27B9ibIwVsIucHL7ZPBigOKwcA2nMFsy5HBubKowYDjscFXub3BjPMCwvT64cHZ593BB7K2wYCKusFavZrBkGWtwb3onMGaYrPBXj21wd8v0sHSL9bBeAf6wei698Fwn93ByUDNwa8Y7sFnBwLCq+j5wb7Z9MFSywXCbqojwrKMGMLnFhXC7yYOwssx9cFE0g7Cr6oTwlat0MGIGenBS/37wW6rDcJq+BDCjM0iwsBEIMLAqCjCd7EXwlPdLcJY3zXC5/0awomjGcK69ELCQlk6wnLiKsLbujHC1ngywlw/AMKBVA7CxL30wWZFCcJTxAPCn80bwt2hE8LdzyrC1I8dwgXQC8I7eh/CNdIgwtdJHMIixivCnbDFwVMxk8Fp/6nBP9qqwUecysF7A7vBTf8+v8sFFsJkrwLCEwIAwqDrBcKl0ArCWxfXweRq4sGJpd/B+fO4wQ0Dx0DnSEZCrAEzQqRRQULZGC9CktVEQt/RPUIjVFRCtKRAQlfSV0LUQ09CM+s9QmNUNkKAmCNCJ/AqQsP/GUJeTiZCncgiQoFSKUKM7zVCgbJQQsv1QULXJDBC5acXQg=="
         },
         "z": {
          "dtype": "f4",
          "bdata": "jw3hwa2LU8HoAADBdM+NwedXrsE79czBnabhwd62EMIHktbBUN+0weUZm8G2A3XBDw6ewSBNscHynVzBfbq0wWO9o0H585tBROrYwWeYuMEdrqjB4I2WwVLlzsE9vNjBs4u+wfAlp8G9kLTBwxXKwZYl2cEQzgnCEJkSwgT9BMJnI8FBpGtsQY3fHsG7SiLBAPpqweTv5T/RMh1Bkk9FQWekTcH1NI/BSexjQdYsM0ECFtxAjtlSwecZKcEgOT3Bzf7dwMAsCUDgElvAUH99wC3Gd8CH24VAG12ZP7RSLb93pLfAOjMjwSBYxsByh6TBTHKkwbAcGkF+A1zB95AGwZjTF8BtI4jBjv8XwaRQSL/HNwRBvrNIwFzEV8FTuFPByPuQQAwzob0zRhpBY20pwcIvKcGXlm5BAChEwWWsgcFuRGnA1R0CwN0uMMD0Nc/AYmU8wF+1SMAQ83TAcs7LwLWThcBxUAfBNISNQAM01T8lRiBBHmARQRlamkBH5DNBtOkgQfc8f0H+iLLBZ9CjweBEh8ETLRlAqRiqQaH+yEH8J3VBY0c+PvD/p0BkLBJBqtAGQf4h5UAHEIxAEPU5QKaUyj8cvK2/vOabQIrg20ACXtdAVLsVQTdZSsC+TYhByQpTQJnAU0DDP8s/x+WnQBSff0FZlYbAHzmvQZA5jkBNCKFBztGQQflFGT8UUBbAc62CQLP4MkFBSIrBhTMjwXCXdUEDwKxBKGsUQUCAUb87kMrAi0CAQJzFyUB1UyVBC1eEQfGwKsB6ZJ/Au0BpP1u7LMAdq1JAweI2QTUPvj37Bm7BTz1EwYJ9wkHG5sJB1c5wQfyEuUE9gpZBgnheQUdhlEH4/JFBTlG/QTyd2kEUOIRB/SSMQUW8dUGqAjJB2YpCQRQVP0E/4sJB80f4QUwW2kE1hthB2465Qci91UHrk+5B6m+gQRMht0HQ2o9BovtVQTXKI0GTD4RBxdWeQdhRj8FgYHHBmv1mP3z2lT7BPi1Aw+CCQFCkdb8x25vA2uGHQObkEb+vyQJAIonnQOxnNkC/Cxi+M1mYQENNzkA211/BlHWswOwQJsEwNp3ACpLBQXOG9sDzsbhAV8tAQHpyBkHFav1AnGFZwK2jI77nG0fAlfPAwY0EMUF+7SxBVnFBQaEJQcFQ2ofBjGdPwSBnFT+EXFRB6zxTwfvhTsFmFJBBlW+wQdxagUEKhG1BJ6ZOQYovMEExjxxBfJSzQBryBkDkRi3APkvMwLNslb7WqITA12zDQby9v7/s6ExAOfIxQLHEUUCBah7AzKJuQCypiMHuR4NB55SMQY9EiEEe4G9BgThzQTe+hUGVi3lB2zCRQVug5cDymSvBl6cYwAhwzcDFS/DAZIYBwc6ENEDbBPq/ygsDwM7rfMA/awzBAnUwwT0oOMGC9BXB1zZ0wY23UsERfGbB7iMcwRuSA765t5fApYOawMGqC8Gz9ovAdDBuwEg6mMCiJEA/JX+8v7GRnz+wIunAW3oiwTudtkBHiSRBGrwwQb5zxUDq4vxA4UmiQEU1l0Cs1NY/WBkmwbLJucCioU7A+J8OwcReiMBemmi/Yc0RwMl9Xb8KuxPBOusmwSi84UCEqodAQ8DHwJ1pWMDPBwTAxeXZv6uNGrxw/7Y/YCLOQBjhkz9R45U+n4ILwN4QEcCISJfANhB8wLSX979Hdms9c5WpQFgPskA4Wg9BihxJQOdCXUCG2QxB3lT2QD8MlEHOTW5Bi7P8QA4kPEEEOj1Aag5MQfDpMUELITtBulzPQEwlv0A1DypBWts1QS78IEHQYINB2remQEPy68HOhnbArayLwKdXl8FXFiHBNIzzwA8EEsGeYgXB6othwST8SMF6YmXBZQaIwbDYZcFn7HDBhcCfwbyKscEwuoTBMOYewfnBJsH5rVvBklVAwYK1EMFM4qvA//ldQQ=="
         },
         "type": "scatter3d"
        }
       ],
       "layout": {
        "template": {
         "data": {
          "histogram2dcontour": [
           {
            "type": "histogram2dcontour",
            "colorbar": {
             "outlinewidth": 0,
             "ticks": ""
            },
            "colorscale": [
             [
              0.0,
              "#0d0887"
             ],
             [
              0.1111111111111111,
              "#46039f"
             ],
             [
              0.2222222222222222,
              "#7201a8"
             ],
             [
              0.3333333333333333,
              "#9c179e"
             ],
             [
              0.4444444444444444,
              "#bd3786"
             ],
             [
              0.5555555555555556,
              "#d8576b"
             ],
             [
              0.6666666666666666,
              "#ed7953"
             ],
             [
              0.7777777777777778,
              "#fb9f3a"
             ],
             [
              0.8888888888888888,
              "#fdca26"
             ],
             [
              1.0,
              "#f0f921"
             ]
            ]
           }
          ],
          "choropleth": [
           {
            "type": "choropleth",
            "colorbar": {
             "outlinewidth": 0,
             "ticks": ""
            }
           }
          ],
          "histogram2d": [
           {
            "type": "histogram2d",
            "colorbar": {
             "outlinewidth": 0,
             "ticks": ""
            },
            "colorscale": [
             [
              0.0,
              "#0d0887"
             ],
             [
              0.1111111111111111,
              "#46039f"
             ],
             [
              0.2222222222222222,
              "#7201a8"
             ],
             [
              0.3333333333333333,
              "#9c179e"
             ],
             [
              0.4444444444444444,
              "#bd3786"
             ],
             [
              0.5555555555555556,
              "#d8576b"
             ],
             [
              0.6666666666666666,
              "#ed7953"
             ],
             [
              0.7777777777777778,
              "#fb9f3a"
             ],
             [
              0.8888888888888888,
              "#fdca26"
             ],
             [
              1.0,
              "#f0f921"
             ]
            ]
           }
          ],
          "heatmap": [
           {
            "type": "heatmap",
            "colorbar": {
             "outlinewidth": 0,
             "ticks": ""
            },
            "colorscale": [
             [
              0.0,
              "#0d0887"
             ],
             [
              0.1111111111111111,
              "#46039f"
             ],
             [
              0.2222222222222222,
              "#7201a8"
             ],
             [
              0.3333333333333333,
              "#9c179e"
             ],
             [
              0.4444444444444444,
              "#bd3786"
             ],
             [
              0.5555555555555556,
              "#d8576b"
             ],
             [
              0.6666666666666666,
              "#ed7953"
             ],
             [
              0.7777777777777778,
              "#fb9f3a"
             ],
             [
              0.8888888888888888,
              "#fdca26"
             ],
             [
              1.0,
              "#f0f921"
             ]
            ]
           }
          ],
          "contourcarpet": [
           {
            "type": "contourcarpet",
            "colorbar": {
             "outlinewidth": 0,
             "ticks": ""
            }
           }
          ],
          "contour": [
           {
            "type": "contour",
            "colorbar": {
             "outlinewidth": 0,
             "ticks": ""
            },
            "colorscale": [
             [
              0.0,
              "#0d0887"
             ],
             [
              0.1111111111111111,
              "#46039f"
             ],
             [
              0.2222222222222222,
              "#7201a8"
             ],
             [
              0.3333333333333333,
              "#9c179e"
             ],
             [
              0.4444444444444444,
              "#bd3786"
             ],
             [
              0.5555555555555556,
              "#d8576b"
             ],
             [
              0.6666666666666666,
              "#ed7953"
             ],
             [
              0.7777777777777778,
              "#fb9f3a"
             ],
             [
              0.8888888888888888,
              "#fdca26"
             ],
             [
              1.0,
              "#f0f921"
             ]
            ]
           }
          ],
          "surface": [
           {
            "type": "surface",
            "colorbar": {
             "outlinewidth": 0,
             "ticks": ""
            },
            "colorscale": [
             [
              0.0,
              "#0d0887"
             ],
             [
              0.1111111111111111,
              "#46039f"
             ],
             [
              0.2222222222222222,
              "#7201a8"
             ],
             [
              0.3333333333333333,
              "#9c179e"
             ],
             [
              0.4444444444444444,
              "#bd3786"
             ],
             [
              0.5555555555555556,
              "#d8576b"
             ],
             [
              0.6666666666666666,
              "#ed7953"
             ],
             [
              0.7777777777777778,
              "#fb9f3a"
             ],
             [
              0.8888888888888888,
              "#fdca26"
             ],
             [
              1.0,
              "#f0f921"
             ]
            ]
           }
          ],
          "mesh3d": [
           {
            "type": "mesh3d",
            "colorbar": {
             "outlinewidth": 0,
             "ticks": ""
            }
           }
          ],
          "scatter": [
           {
            "marker": {
             "line": {
              "color": "#283442"
             }
            },
            "type": "scatter"
           }
          ],
          "parcoords": [
           {
            "type": "parcoords",
            "line": {
             "colorbar": {
              "outlinewidth": 0,
              "ticks": ""
             }
            }
           }
          ],
          "scatterpolargl": [
           {
            "type": "scatterpolargl",
            "marker": {
             "colorbar": {
              "outlinewidth": 0,
              "ticks": ""
             }
            }
           }
          ],
          "bar": [
           {
            "error_x": {
             "color": "#f2f5fa"
            },
            "error_y": {
             "color": "#f2f5fa"
            },
            "marker": {
             "line": {
              "color": "rgb(17,17,17)",
              "width": 0.5
             },
             "pattern": {
              "fillmode": "overlay",
              "size": 10,
              "solidity": 0.2
             }
            },
            "type": "bar"
           }
          ],
          "scattergeo": [
           {
            "type": "scattergeo",
            "marker": {
             "colorbar": {
              "outlinewidth": 0,
              "ticks": ""
             }
            }
           }
          ],
          "scatterpolar": [
           {
            "type": "scatterpolar",
            "marker": {
             "colorbar": {
              "outlinewidth": 0,
              "ticks": ""
             }
            }
           }
          ],
          "histogram": [
           {
            "marker": {
             "pattern": {
              "fillmode": "overlay",
              "size": 10,
              "solidity": 0.2
             }
            },
            "type": "histogram"
           }
          ],
          "scattergl": [
           {
            "marker": {
             "line": {
              "color": "#283442"
             }
            },
            "type": "scattergl"
           }
          ],
          "scatter3d": [
           {
            "type": "scatter3d",
            "line": {
             "colorbar": {
              "outlinewidth": 0,
              "ticks": ""
             }
            },
            "marker": {
             "colorbar": {
              "outlinewidth": 0,
              "ticks": ""
             }
            }
           }
          ],
          "scattermap": [
           {
            "type": "scattermap",
            "marker": {
             "colorbar": {
              "outlinewidth": 0,
              "ticks": ""
             }
            }
           }
          ],
          "scattermapbox": [
           {
            "type": "scattermapbox",
            "marker": {
             "colorbar": {
              "outlinewidth": 0,
              "ticks": ""
             }
            }
           }
          ],
          "scatterternary": [
           {
            "type": "scatterternary",
            "marker": {
             "colorbar": {
              "outlinewidth": 0,
              "ticks": ""
             }
            }
           }
          ],
          "scattercarpet": [
           {
            "type": "scattercarpet",
            "marker": {
             "colorbar": {
              "outlinewidth": 0,
              "ticks": ""
             }
            }
           }
          ],
          "carpet": [
           {
            "aaxis": {
             "endlinecolor": "#A2B1C6",
             "gridcolor": "#506784",
             "linecolor": "#506784",
             "minorgridcolor": "#506784",
             "startlinecolor": "#A2B1C6"
            },
            "baxis": {
             "endlinecolor": "#A2B1C6",
             "gridcolor": "#506784",
             "linecolor": "#506784",
             "minorgridcolor": "#506784",
             "startlinecolor": "#A2B1C6"
            },
            "type": "carpet"
           }
          ],
          "table": [
           {
            "cells": {
             "fill": {
              "color": "#506784"
             },
             "line": {
              "color": "rgb(17,17,17)"
             }
            },
            "header": {
             "fill": {
              "color": "#2a3f5f"
             },
             "line": {
              "color": "rgb(17,17,17)"
             }
            },
            "type": "table"
           }
          ],
          "barpolar": [
           {
            "marker": {
             "line": {
              "color": "rgb(17,17,17)",
              "width": 0.5
             },
             "pattern": {
              "fillmode": "overlay",
              "size": 10,
              "solidity": 0.2
             }
            },
            "type": "barpolar"
           }
          ],
          "pie": [
           {
            "automargin": true,
            "type": "pie"
           }
          ]
         },
         "layout": {
          "autotypenumbers": "strict",
          "colorway": [
           "#636efa",
           "#EF553B",
           "#00cc96",
           "#ab63fa",
           "#FFA15A",
           "#19d3f3",
           "#FF6692",
           "#B6E880",
           "#FF97FF",
           "#FECB52"
          ],
          "font": {
           "color": "#f2f5fa"
          },
          "hovermode": "closest",
          "hoverlabel": {
           "align": "left"
          },
          "paper_bgcolor": "rgb(17,17,17)",
          "plot_bgcolor": "rgb(17,17,17)",
          "polar": {
           "bgcolor": "rgb(17,17,17)",
           "angularaxis": {
            "gridcolor": "#506784",
            "linecolor": "#506784",
            "ticks": ""
           },
           "radialaxis": {
            "gridcolor": "#506784",
            "linecolor": "#506784",
            "ticks": ""
           }
          },
          "ternary": {
           "bgcolor": "rgb(17,17,17)",
           "aaxis": {
            "gridcolor": "#506784",
            "linecolor": "#506784",
            "ticks": ""
           },
           "baxis": {
            "gridcolor": "#506784",
            "linecolor": "#506784",
            "ticks": ""
           },
           "caxis": {
            "gridcolor": "#506784",
            "linecolor": "#506784",
            "ticks": ""
           }
          },
          "coloraxis": {
           "colorbar": {
            "outlinewidth": 0,
            "ticks": ""
           }
          },
          "colorscale": {
           "sequential": [
            [
             0.0,
             "#0d0887"
            ],
            [
             0.1111111111111111,
             "#46039f"
            ],
            [
             0.2222222222222222,
             "#7201a8"
            ],
            [
             0.3333333333333333,
             "#9c179e"
            ],
            [
             0.4444444444444444,
             "#bd3786"
            ],
            [
             0.5555555555555556,
             "#d8576b"
            ],
            [
             0.6666666666666666,
             "#ed7953"
            ],
            [
             0.7777777777777778,
             "#fb9f3a"
            ],
            [
             0.8888888888888888,
             "#fdca26"
            ],
            [
             1.0,
             "#f0f921"
            ]
           ],
           "sequentialminus": [
            [
             0.0,
             "#0d0887"
            ],
            [
             0.1111111111111111,
             "#46039f"
            ],
            [
             0.2222222222222222,
             "#7201a8"
            ],
            [
             0.3333333333333333,
             "#9c179e"
            ],
            [
             0.4444444444444444,
             "#bd3786"
            ],
            [
             0.5555555555555556,
             "#d8576b"
            ],
            [
             0.6666666666666666,
             "#ed7953"
            ],
            [
             0.7777777777777778,
             "#fb9f3a"
            ],
            [
             0.8888888888888888,
             "#fdca26"
            ],
            [
             1.0,
             "#f0f921"
            ]
           ],
           "diverging": [
            [
             0,
             "#8e0152"
            ],
            [
             0.1,
             "#c51b7d"
            ],
            [
             0.2,
             "#de77ae"
            ],
            [
             0.3,
             "#f1b6da"
            ],
            [
             0.4,
             "#fde0ef"
            ],
            [
             0.5,
             "#f7f7f7"
            ],
            [
             0.6,
             "#e6f5d0"
            ],
            [
             0.7,
             "#b8e186"
            ],
            [
             0.8,
             "#7fbc41"
            ],
            [
             0.9,
             "#4d9221"
            ],
            [
             1,
             "#276419"
            ]
           ]
          },
          "xaxis": {
           "gridcolor": "#283442",
           "linecolor": "#506784",
           "ticks": "",
           "title": {
            "standoff": 15
           },
           "zerolinecolor": "#283442",
           "automargin": true,
           "zerolinewidth": 2
          },
          "yaxis": {
           "gridcolor": "#283442",
           "linecolor": "#506784",
           "ticks": "",
           "title": {
            "standoff": 15
           },
           "zerolinecolor": "#283442",
           "automargin": true,
           "zerolinewidth": 2
          },
          "scene": {
           "xaxis": {
            "backgroundcolor": "rgb(17,17,17)",
            "gridcolor": "#506784",
            "linecolor": "#506784",
            "showbackground": true,
            "ticks": "",
            "zerolinecolor": "#C8D4E3",
            "gridwidth": 2
           },
           "yaxis": {
            "backgroundcolor": "rgb(17,17,17)",
            "gridcolor": "#506784",
            "linecolor": "#506784",
            "showbackground": true,
            "ticks": "",
            "zerolinecolor": "#C8D4E3",
            "gridwidth": 2
           },
           "zaxis": {
            "backgroundcolor": "rgb(17,17,17)",
            "gridcolor": "#506784",
            "linecolor": "#506784",
            "showbackground": true,
            "ticks": "",
            "zerolinecolor": "#C8D4E3",
            "gridwidth": 2
           }
          },
          "shapedefaults": {
           "line": {
            "color": "#f2f5fa"
           }
          },
          "annotationdefaults": {
           "arrowcolor": "#f2f5fa",
           "arrowhead": 0,
           "arrowwidth": 1
          },
          "geo": {
           "bgcolor": "rgb(17,17,17)",
           "landcolor": "rgb(17,17,17)",
           "subunitcolor": "#506784",
           "showland": true,
           "showlakes": true,
           "lakecolor": "rgb(17,17,17)"
          },
          "title": {
           "x": 0.05
          },
          "updatemenudefaults": {
           "bgcolor": "#506784",
           "borderwidth": 0
          },
          "sliderdefaults": {
           "bgcolor": "#C8D4E3",
           "borderwidth": 1,
           "bordercolor": "rgb(17,17,17)",
           "tickwidth": 0
          },
          "mapbox": {
           "style": "dark"
          }
         }
        },
        "scene": {
         "domain": {
          "x": [
           0.0,
           1.0
          ],
          "y": [
           0.0,
           1.0
          ]
         },
         "xaxis": {
          "title": {
           "text": "TSNE-1"
          }
         },
         "yaxis": {
          "title": {
           "text": "TSNE-2"
          }
         },
         "zaxis": {
          "title": {
           "text": "TSNE-3"
          }
         }
        },
        "coloraxis": {
         "colorbar": {
          "title": {
           "text": "label"
          }
         },
         "colorscale": [
          [
           0.0,
           "#0d0887"
          ],
          [
           0.1111111111111111,
           "#46039f"
          ],
          [
           0.2222222222222222,
           "#7201a8"
          ],
          [
           0.3333333333333333,
           "#9c179e"
          ],
          [
           0.4444444444444444,
           "#bd3786"
          ],
          [
           0.5555555555555556,
           "#d8576b"
          ],
          [
           0.6666666666666666,
           "#ed7953"
          ],
          [
           0.7777777777777778,
           "#fb9f3a"
          ],
          [
           0.8888888888888888,
           "#fdca26"
          ],
          [
           1.0,
           "#f0f921"
          ]
         ]
        },
        "legend": {
         "tracegroupgap": 0
        },
        "title": {
         "text": "3D t-SNE Projection of Chunk Embeddings"
        }
       },
       "config": {
        "plotlyServerURL": "https://plot.ly"
       }
      }
     },
     "metadata": {},
     "output_type": "display_data"
    }
   ],
   "execution_count": 151
  },
  {
   "metadata": {},
   "cell_type": "markdown",
   "source": [
    "## Summary\n",
    "This notebook demonstarted what is happening under the hood to find the pertinent query augments to improve the quality of completion. "
   ],
   "id": "8f6b928116c4689f"
  },
  {
   "metadata": {},
   "cell_type": "markdown",
   "source": "",
   "id": "8490335f350967b4"
  }
 ],
 "metadata": {
  "kernelspec": {
   "display_name": "Python [conda env:tim-test-env]",
   "language": "python",
   "name": "conda-env-tim-test-env-py"
  },
  "language_info": {
   "codemirror_mode": {
    "name": "ipython",
    "version": 2
   },
   "file_extension": ".py",
   "mimetype": "text/x-python",
   "name": "python",
   "nbconvert_exporter": "python",
   "pygments_lexer": "ipython2",
   "version": "2.7.6"
  }
 },
 "nbformat": 4,
 "nbformat_minor": 5
}
