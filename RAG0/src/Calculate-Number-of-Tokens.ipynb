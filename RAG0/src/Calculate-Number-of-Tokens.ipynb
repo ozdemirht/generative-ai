{
 "cells": [
  {
   "metadata": {},
   "cell_type": "markdown",
   "source": "# Calculate The Number Of Tokens",
   "id": "723f56315aec9830"
  },
  {
   "metadata": {},
   "cell_type": "markdown",
   "source": "This notebook explains how to estimate the number of tokens in different use cases.",
   "id": "4ead52ae04cc3e73"
  },
  {
   "metadata": {},
   "cell_type": "markdown",
   "source": "## Setup",
   "id": "7b0eff870927325b"
  },
  {
   "cell_type": "code",
   "id": "initial_id",
   "metadata": {
    "collapsed": true,
    "ExecuteTime": {
     "end_time": "2025-10-28T21:01:38.103135Z",
     "start_time": "2025-10-28T21:01:32.751837Z"
    }
   },
   "source": [
    "%pip install --upgrade tiktoken -q\n",
    "%pip install --upgrade openai -q"
   ],
   "outputs": [
    {
     "name": "stdout",
     "output_type": "stream",
     "text": [
      "Note: you may need to restart the kernel to use updated packages.\n",
      "Note: you may need to restart the kernel to use updated packages.\n"
     ]
    }
   ],
   "execution_count": 3
  },
  {
   "metadata": {},
   "cell_type": "markdown",
   "source": "Import tiktoken",
   "id": "7e8d0d21495d5ba8"
  },
  {
   "metadata": {
    "ExecuteTime": {
     "end_time": "2025-10-28T21:02:39.582004Z",
     "start_time": "2025-10-28T21:02:39.484341Z"
    }
   },
   "cell_type": "code",
   "source": "import tiktoken",
   "id": "153f40e200fcc1a8",
   "outputs": [],
   "execution_count": 1
  },
  {
   "metadata": {},
   "cell_type": "markdown",
   "source": "Helper function to count the nunber of tokens for a given encoding name.",
   "id": "4e1a956b247add0f"
  },
  {
   "metadata": {
    "ExecuteTime": {
     "end_time": "2025-10-28T21:11:53.493037Z",
     "start_time": "2025-10-28T21:11:53.488311Z"
    }
   },
   "cell_type": "code",
   "source": [
    "def num_tokens_from_string(string: str, encoding_name: str) -> int:\n",
    "    \"\"\"Returns the number of tokens in a text string.\"\"\"\n",
    "    encoding = tiktoken.get_encoding(encoding_name)\n",
    "    num_tokens = len(encoding.encode(string))\n",
    "    return num_tokens"
   ],
   "id": "280ce30c26a280b8",
   "outputs": [],
   "execution_count": 6
  },
  {
   "metadata": {
    "ExecuteTime": {
     "end_time": "2025-10-28T21:14:44.676785Z",
     "start_time": "2025-10-28T21:14:44.672187Z"
    }
   },
   "cell_type": "code",
   "source": [
    "def num_tokens_for_string_for_model(string: str, model_name: str) -> int:\n",
    "    \"\"\"Returns the number of tokens in a text string.\"\"\"\n",
    "    encoding = tiktoken.encoding_for_model(model_name)\n",
    "    num_tokens = len(encoding.encode(string))\n",
    "    return num_tokens"
   ],
   "id": "94e0f98b4e7ba945",
   "outputs": [],
   "execution_count": 7
  },
  {
   "metadata": {},
   "cell_type": "markdown",
   "source": "Test",
   "id": "cd19f6abe8a038de"
  },
  {
   "metadata": {
    "ExecuteTime": {
     "end_time": "2025-10-28T21:19:23.148733Z",
     "start_time": "2025-10-28T21:19:23.145289Z"
    }
   },
   "cell_type": "code",
   "source": [
    "test_string = \"tiktoken is great!\"\n",
    "model_name = \"gpt-4o-mini\"\n",
    "encoding_name = \"o200k_base\"\n"
   ],
   "id": "c7be8056bcad6bae",
   "outputs": [],
   "execution_count": 11
  },
  {
   "metadata": {
    "ExecuteTime": {
     "end_time": "2025-10-28T21:16:43.988780Z",
     "start_time": "2025-10-28T21:16:43.981962Z"
    }
   },
   "cell_type": "code",
   "source": "print(f\"Number of tokens({model_name}): {num_tokens_for_string_for_model(test_string, model_name)}\")",
   "id": "691d013533c21461",
   "outputs": [
    {
     "name": "stdout",
     "output_type": "stream",
     "text": [
      "Number of tokens(gpt-4o-mini): 6\n"
     ]
    }
   ],
   "execution_count": 8
  },
  {
   "metadata": {
    "ExecuteTime": {
     "end_time": "2025-10-28T21:19:25.634732Z",
     "start_time": "2025-10-28T21:19:25.630747Z"
    }
   },
   "cell_type": "code",
   "source": "print(f\"Number of tokens({encoding_name}): {num_tokens_from_string(test_string, encoding_name)}\")",
   "id": "17dac3009131f2ed",
   "outputs": [
    {
     "name": "stdout",
     "output_type": "stream",
     "text": [
      "Number of tokens(o200k_base): 6\n"
     ]
    }
   ],
   "execution_count": 12
  },
  {
   "metadata": {},
   "cell_type": "markdown",
   "source": "Let's calculate the number tokens for a given file and estimate the cost for one model used for embedding.",
   "id": "f0f887be718e0cc0"
  },
  {
   "metadata": {
    "ExecuteTime": {
     "end_time": "2025-10-28T21:39:23.150396Z",
     "start_time": "2025-10-28T21:39:23.080967Z"
    }
   },
   "cell_type": "code",
   "source": [
    "file_name = \"../data/ThePrince_Machiavelli.txt\"\n",
    "cost_per_token = 0.05/1000000\n",
    "with open(file_name, \"r\",encoding=\"utf-8\") as file:\n",
    "    content = file.read()\n",
    "    content_length = len(content)\n",
    "    print(f\"Length({file_name}): {content_length:,}\")\n",
    "    content_words = content.split()\n",
    "    print(f\"Number of words({file_name}): {len(content_words):,}\")\n",
    "    content_token_count = num_tokens_for_string_for_model(content, model_name)\n",
    "    print(f\"Number of tokens({model_name}): {content_token_count:,}\")\n",
    "    print(f\"Cost of tokens({model_name}): {content_token_count*cost_per_token}\\u00A2\")"
   ],
   "id": "92ecc58bff1db3e",
   "outputs": [
    {
     "name": "stdout",
     "output_type": "stream",
     "text": [
      "Length(../data/ThePrince_Machiavelli.txt): 301,912\n",
      "Number of words(../data/ThePrince_Machiavelli.txt): 52,979\n",
      "Number of tokens(gpt-4o-mini): 70,730\n",
      "Cost of tokens(gpt-4o-mini): 0.0035365¢\n"
     ]
    }
   ],
   "execution_count": 32
  },
  {
   "metadata": {},
   "cell_type": "code",
   "outputs": [],
   "execution_count": null,
   "source": "",
   "id": "7dc92b8e1e248d51"
  },
  {
   "metadata": {},
   "cell_type": "markdown",
   "source": [
    "## References\n",
    " 1. https://github.com/openai/tiktoken\n",
    " 1. https://github.com/openai/openai-cookbook/blob/main/examples/How_to_count_tokens_with_tiktoken.ipynb"
   ],
   "id": "1de6f2a4134b504b"
  },
  {
   "metadata": {},
   "cell_type": "markdown",
   "source": "## Appendix",
   "id": "4541bc16c5c9346b"
  },
  {
   "metadata": {
    "ExecuteTime": {
     "end_time": "2025-10-28T21:25:52.198358Z",
     "start_time": "2025-10-28T21:25:52.193733Z"
    }
   },
   "cell_type": "code",
   "source": [
    "test_string = \"tiktoken is great!\"\n",
    "model_name = \"gpt-4o-mini\"\n",
    "\n",
    "encoding = tiktoken.encoding_for_model(model_name)\n",
    "encoded = encoding.encode(test_string)\n",
    "print(f\"Encode({model_name},\\\"{test_string[:10]}...\\\") => {encoded}\")\n",
    "print(f\"Len({encoded}) => {len(encoded)}\")"
   ],
   "id": "e98dcc2fc3a916b2",
   "outputs": [
    {
     "name": "stdout",
     "output_type": "stream",
     "text": [
      "Encode(gpt-4o-mini,\"tiktoken i...\") => [83, 8251, 2488, 382, 2212, 0]\n",
      "Len([83, 8251, 2488, 382, 2212, 0]) => 6\n"
     ]
    }
   ],
   "execution_count": 20
  },
  {
   "metadata": {},
   "cell_type": "code",
   "outputs": [],
   "execution_count": null,
   "source": "",
   "id": "1eebb6b59d4ae6c2"
  },
  {
   "metadata": {
    "ExecuteTime": {
     "end_time": "2025-10-28T21:26:24.280138Z",
     "start_time": "2025-10-28T21:26:24.275690Z"
    }
   },
   "cell_type": "code",
   "source": [
    "test_string = \"tiktoken is great!\"\n",
    "encoding_name = \"o200k_base\"\n",
    "\n",
    "encoding = tiktoken.get_encoding(encoding_name)\n",
    "encoded = encoding.encode(test_string)\n",
    "print(f\"Encode({encoding_name},\\\"{test_string[:10]}...\\\") => {encoded}\")\n",
    "print(f\"Len({encoded}) => {len(encoded)}\")"
   ],
   "id": "51dc636335871242",
   "outputs": [
    {
     "name": "stdout",
     "output_type": "stream",
     "text": [
      "Encode(o200k_base,\"tiktoken i...\") => [83, 8251, 2488, 382, 2212, 0]\n",
      "Len([83, 8251, 2488, 382, 2212, 0]) => 6\n"
     ]
    }
   ],
   "execution_count": 21
  }
 ],
 "metadata": {
  "kernelspec": {
   "display_name": "Python 3",
   "language": "python",
   "name": "python3"
  },
  "language_info": {
   "codemirror_mode": {
    "name": "ipython",
    "version": 2
   },
   "file_extension": ".py",
   "mimetype": "text/x-python",
   "name": "python",
   "nbconvert_exporter": "python",
   "pygments_lexer": "ipython2",
   "version": "2.7.6"
  }
 },
 "nbformat": 4,
 "nbformat_minor": 5
}
